{
  "cells": [
    {
      "cell_type": "code",
      "execution_count": 186,
      "metadata": {
        "colab": {
          "base_uri": "https://localhost:8080/"
        },
        "id": "5gzXVb7xivau",
        "outputId": "fac609f9-56bf-44f0-81f7-d66d5a491255"
      },
      "outputs": [
        {
          "output_type": "stream",
          "name": "stdout",
          "text": [
            "Requirement already satisfied: yfinance in /usr/local/lib/python3.7/dist-packages (0.1.70)\n",
            "Requirement already satisfied: pandas>=0.24.0 in /usr/local/lib/python3.7/dist-packages (from yfinance) (1.3.5)\n",
            "Requirement already satisfied: requests>=2.26 in /usr/local/lib/python3.7/dist-packages (from yfinance) (2.27.1)\n",
            "Requirement already satisfied: numpy>=1.15 in /usr/local/lib/python3.7/dist-packages (from yfinance) (1.21.6)\n",
            "Requirement already satisfied: lxml>=4.5.1 in /usr/local/lib/python3.7/dist-packages (from yfinance) (4.8.0)\n",
            "Requirement already satisfied: multitasking>=0.0.7 in /usr/local/lib/python3.7/dist-packages (from yfinance) (0.0.10)\n",
            "Requirement already satisfied: pytz>=2017.3 in /usr/local/lib/python3.7/dist-packages (from pandas>=0.24.0->yfinance) (2022.1)\n",
            "Requirement already satisfied: python-dateutil>=2.7.3 in /usr/local/lib/python3.7/dist-packages (from pandas>=0.24.0->yfinance) (2.8.2)\n",
            "Requirement already satisfied: six>=1.5 in /usr/local/lib/python3.7/dist-packages (from python-dateutil>=2.7.3->pandas>=0.24.0->yfinance) (1.15.0)\n",
            "Requirement already satisfied: certifi>=2017.4.17 in /usr/local/lib/python3.7/dist-packages (from requests>=2.26->yfinance) (2021.10.8)\n",
            "Requirement already satisfied: charset-normalizer~=2.0.0 in /usr/local/lib/python3.7/dist-packages (from requests>=2.26->yfinance) (2.0.12)\n",
            "Requirement already satisfied: idna<4,>=2.5 in /usr/local/lib/python3.7/dist-packages (from requests>=2.26->yfinance) (2.10)\n",
            "Requirement already satisfied: urllib3<1.27,>=1.21.1 in /usr/local/lib/python3.7/dist-packages (from requests>=2.26->yfinance) (1.24.3)\n"
          ]
        }
      ],
      "source": [
        "!pip install yfinance\n",
        "import yfinance as yf\n",
        "#date till :- 15/02/22\n",
        "#data_sensex = yf.download(\"^BSESN\")\n",
        "#data_nifty = yf.download(\"^NSEI\")\n",
        "#data_tata = yf.download(\"TTM\")\n",
        "#data_infosys = yf.download(\"INFY\")"
      ]
    },
    {
      "cell_type": "code",
      "execution_count": 187,
      "metadata": {
        "id": "rDn5cAiAivay"
      },
      "outputs": [],
      "source": [
        "#data_sensex.to_csv('sensex.csv')\n",
        "#data_nifty.to_csv('nifty.csv')\n",
        "#data_tata.to_csv('tata.csv')\n",
        "#data_infosys.to_csv('infosys.csv')"
      ]
    },
    {
      "cell_type": "code",
      "execution_count": 188,
      "metadata": {
        "colab": {
          "base_uri": "https://localhost:8080/"
        },
        "id": "bTv4zuqiivaz",
        "outputId": "ab872f35-2df7-4e1f-9685-3976d6d716ff"
      },
      "outputs": [
        {
          "output_type": "stream",
          "name": "stdout",
          "text": [
            "            Date          Open          High           Low         Close  \\\n",
            "0     1997-07-01   4263.109863   4301.770020   4247.660156   4300.859863   \n",
            "1     1997-07-02   4302.959961   4395.310059   4295.399902   4333.899902   \n",
            "2     1997-07-03   4335.790039   4393.290039   4299.970215   4323.459961   \n",
            "3     1997-07-04   4332.700195   4347.589844   4300.580078   4323.819824   \n",
            "4     1997-07-07   4326.810059   4391.009766   4289.490234   4291.450195   \n",
            "...          ...           ...           ...           ...           ...   \n",
            "6061  2022-02-08  57799.671875  57925.820312  57058.769531  57808.578125   \n",
            "6062  2022-02-09  58163.011719  58507.609375  58105.179688  58465.968750   \n",
            "6063  2022-02-10  58810.531250  59060.238281  58332.281250  58926.031250   \n",
            "6064  2022-02-11  58447.148438  58447.148438  57914.101562  58152.921875   \n",
            "6065  2022-02-14  56720.320312  57191.910156  56295.699219  56405.839844   \n",
            "\n",
            "         Adj Close  Volume  \n",
            "0      4300.859863       0  \n",
            "1      4333.899902       0  \n",
            "2      4323.459961       0  \n",
            "3      4323.819824       0  \n",
            "4      4291.450195       0  \n",
            "...            ...     ...  \n",
            "6061  57808.578125    8900  \n",
            "6062  58465.968750    5900  \n",
            "6063  58926.031250    6700  \n",
            "6064  58152.921875    5700  \n",
            "6065  56405.839844       0  \n",
            "\n",
            "[6066 rows x 7 columns]\n"
          ]
        }
      ],
      "source": [
        "import pandas as pd\n",
        "df_sensex = pd.read_csv('sensex.csv')\n",
        "print(df_sensex)"
      ]
    },
    {
      "cell_type": "code",
      "source": [
        "df_seas = df_sensex.copy()\n",
        "df_seas.drop(['Open', 'High','Low','Adj Close','Volume'], axis = 1,inplace=True)\n",
        "# df_seas.drop(df_seas.drop(df_seas.columns[[1,2,3,5,6]], axis = 1, inplace = True))\n",
        "df_seas['Date']=pd.to_datetime(df_seas['Date'],infer_datetime_format=True)\n",
        "df_seas=df_seas.set_index(['Date']).asfreq('D')\n",
        "# df_seas.interpolate(method ='linear', limit_direction ='forward')\n",
        "# # df_seas['Close'].fillna(method='ffill').fillna(method='bfill')\n",
        "# # df_seas = df_seas.dropna()\n",
        "df_seas.head(10)"
      ],
      "metadata": {
        "colab": {
          "base_uri": "https://localhost:8080/",
          "height": 394
        },
        "id": "6L67fK84v7m9",
        "outputId": "8cc98cf4-84fb-4179-9ead-835dbce1753f"
      },
      "execution_count": 189,
      "outputs": [
        {
          "output_type": "execute_result",
          "data": {
            "text/plain": [
              "                  Close\n",
              "Date                   \n",
              "1997-07-01  4300.859863\n",
              "1997-07-02  4333.899902\n",
              "1997-07-03  4323.459961\n",
              "1997-07-04  4323.819824\n",
              "1997-07-05          NaN\n",
              "1997-07-06          NaN\n",
              "1997-07-07  4291.450195\n",
              "1997-07-08  4306.390137\n",
              "1997-07-09  4404.689941\n",
              "1997-07-10  4378.370117"
            ],
            "text/html": [
              "\n",
              "  <div id=\"df-25562957-56c2-4bc1-9ee0-5f68df8c75f5\">\n",
              "    <div class=\"colab-df-container\">\n",
              "      <div>\n",
              "<style scoped>\n",
              "    .dataframe tbody tr th:only-of-type {\n",
              "        vertical-align: middle;\n",
              "    }\n",
              "\n",
              "    .dataframe tbody tr th {\n",
              "        vertical-align: top;\n",
              "    }\n",
              "\n",
              "    .dataframe thead th {\n",
              "        text-align: right;\n",
              "    }\n",
              "</style>\n",
              "<table border=\"1\" class=\"dataframe\">\n",
              "  <thead>\n",
              "    <tr style=\"text-align: right;\">\n",
              "      <th></th>\n",
              "      <th>Close</th>\n",
              "    </tr>\n",
              "    <tr>\n",
              "      <th>Date</th>\n",
              "      <th></th>\n",
              "    </tr>\n",
              "  </thead>\n",
              "  <tbody>\n",
              "    <tr>\n",
              "      <th>1997-07-01</th>\n",
              "      <td>4300.859863</td>\n",
              "    </tr>\n",
              "    <tr>\n",
              "      <th>1997-07-02</th>\n",
              "      <td>4333.899902</td>\n",
              "    </tr>\n",
              "    <tr>\n",
              "      <th>1997-07-03</th>\n",
              "      <td>4323.459961</td>\n",
              "    </tr>\n",
              "    <tr>\n",
              "      <th>1997-07-04</th>\n",
              "      <td>4323.819824</td>\n",
              "    </tr>\n",
              "    <tr>\n",
              "      <th>1997-07-05</th>\n",
              "      <td>NaN</td>\n",
              "    </tr>\n",
              "    <tr>\n",
              "      <th>1997-07-06</th>\n",
              "      <td>NaN</td>\n",
              "    </tr>\n",
              "    <tr>\n",
              "      <th>1997-07-07</th>\n",
              "      <td>4291.450195</td>\n",
              "    </tr>\n",
              "    <tr>\n",
              "      <th>1997-07-08</th>\n",
              "      <td>4306.390137</td>\n",
              "    </tr>\n",
              "    <tr>\n",
              "      <th>1997-07-09</th>\n",
              "      <td>4404.689941</td>\n",
              "    </tr>\n",
              "    <tr>\n",
              "      <th>1997-07-10</th>\n",
              "      <td>4378.370117</td>\n",
              "    </tr>\n",
              "  </tbody>\n",
              "</table>\n",
              "</div>\n",
              "      <button class=\"colab-df-convert\" onclick=\"convertToInteractive('df-25562957-56c2-4bc1-9ee0-5f68df8c75f5')\"\n",
              "              title=\"Convert this dataframe to an interactive table.\"\n",
              "              style=\"display:none;\">\n",
              "        \n",
              "  <svg xmlns=\"http://www.w3.org/2000/svg\" height=\"24px\"viewBox=\"0 0 24 24\"\n",
              "       width=\"24px\">\n",
              "    <path d=\"M0 0h24v24H0V0z\" fill=\"none\"/>\n",
              "    <path d=\"M18.56 5.44l.94 2.06.94-2.06 2.06-.94-2.06-.94-.94-2.06-.94 2.06-2.06.94zm-11 1L8.5 8.5l.94-2.06 2.06-.94-2.06-.94L8.5 2.5l-.94 2.06-2.06.94zm10 10l.94 2.06.94-2.06 2.06-.94-2.06-.94-.94-2.06-.94 2.06-2.06.94z\"/><path d=\"M17.41 7.96l-1.37-1.37c-.4-.4-.92-.59-1.43-.59-.52 0-1.04.2-1.43.59L10.3 9.45l-7.72 7.72c-.78.78-.78 2.05 0 2.83L4 21.41c.39.39.9.59 1.41.59.51 0 1.02-.2 1.41-.59l7.78-7.78 2.81-2.81c.8-.78.8-2.07 0-2.86zM5.41 20L4 18.59l7.72-7.72 1.47 1.35L5.41 20z\"/>\n",
              "  </svg>\n",
              "      </button>\n",
              "      \n",
              "  <style>\n",
              "    .colab-df-container {\n",
              "      display:flex;\n",
              "      flex-wrap:wrap;\n",
              "      gap: 12px;\n",
              "    }\n",
              "\n",
              "    .colab-df-convert {\n",
              "      background-color: #E8F0FE;\n",
              "      border: none;\n",
              "      border-radius: 50%;\n",
              "      cursor: pointer;\n",
              "      display: none;\n",
              "      fill: #1967D2;\n",
              "      height: 32px;\n",
              "      padding: 0 0 0 0;\n",
              "      width: 32px;\n",
              "    }\n",
              "\n",
              "    .colab-df-convert:hover {\n",
              "      background-color: #E2EBFA;\n",
              "      box-shadow: 0px 1px 2px rgba(60, 64, 67, 0.3), 0px 1px 3px 1px rgba(60, 64, 67, 0.15);\n",
              "      fill: #174EA6;\n",
              "    }\n",
              "\n",
              "    [theme=dark] .colab-df-convert {\n",
              "      background-color: #3B4455;\n",
              "      fill: #D2E3FC;\n",
              "    }\n",
              "\n",
              "    [theme=dark] .colab-df-convert:hover {\n",
              "      background-color: #434B5C;\n",
              "      box-shadow: 0px 1px 3px 1px rgba(0, 0, 0, 0.15);\n",
              "      filter: drop-shadow(0px 1px 2px rgba(0, 0, 0, 0.3));\n",
              "      fill: #FFFFFF;\n",
              "    }\n",
              "  </style>\n",
              "\n",
              "      <script>\n",
              "        const buttonEl =\n",
              "          document.querySelector('#df-25562957-56c2-4bc1-9ee0-5f68df8c75f5 button.colab-df-convert');\n",
              "        buttonEl.style.display =\n",
              "          google.colab.kernel.accessAllowed ? 'block' : 'none';\n",
              "\n",
              "        async function convertToInteractive(key) {\n",
              "          const element = document.querySelector('#df-25562957-56c2-4bc1-9ee0-5f68df8c75f5');\n",
              "          const dataTable =\n",
              "            await google.colab.kernel.invokeFunction('convertToInteractive',\n",
              "                                                     [key], {});\n",
              "          if (!dataTable) return;\n",
              "\n",
              "          const docLinkHtml = 'Like what you see? Visit the ' +\n",
              "            '<a target=\"_blank\" href=https://colab.research.google.com/notebooks/data_table.ipynb>data table notebook</a>'\n",
              "            + ' to learn more about interactive tables.';\n",
              "          element.innerHTML = '';\n",
              "          dataTable['output_type'] = 'display_data';\n",
              "          await google.colab.output.renderOutput(dataTable, element);\n",
              "          const docLink = document.createElement('div');\n",
              "          docLink.innerHTML = docLinkHtml;\n",
              "          element.appendChild(docLink);\n",
              "        }\n",
              "      </script>\n",
              "    </div>\n",
              "  </div>\n",
              "  "
            ]
          },
          "metadata": {},
          "execution_count": 189
        }
      ]
    },
    {
      "cell_type": "code",
      "source": [
        "df_seas=df_seas.interpolate(method ='linear', limit_direction ='forward')\n",
        "# df_seas.fillna(method='pad')\n",
        "# df_seas = df_seas.dropna()\n",
        "df_seas.head(10)"
      ],
      "metadata": {
        "colab": {
          "base_uri": "https://localhost:8080/",
          "height": 394
        },
        "id": "AOE4bRdpKIzf",
        "outputId": "15b463f7-3b4d-465b-a88c-4b9303aeab67"
      },
      "execution_count": 190,
      "outputs": [
        {
          "output_type": "execute_result",
          "data": {
            "text/plain": [
              "                  Close\n",
              "Date                   \n",
              "1997-07-01  4300.859863\n",
              "1997-07-02  4333.899902\n",
              "1997-07-03  4323.459961\n",
              "1997-07-04  4323.819824\n",
              "1997-07-05  4313.029948\n",
              "1997-07-06  4302.240072\n",
              "1997-07-07  4291.450195\n",
              "1997-07-08  4306.390137\n",
              "1997-07-09  4404.689941\n",
              "1997-07-10  4378.370117"
            ],
            "text/html": [
              "\n",
              "  <div id=\"df-d62564ea-fcd9-497e-aad4-0dccf2fc8be9\">\n",
              "    <div class=\"colab-df-container\">\n",
              "      <div>\n",
              "<style scoped>\n",
              "    .dataframe tbody tr th:only-of-type {\n",
              "        vertical-align: middle;\n",
              "    }\n",
              "\n",
              "    .dataframe tbody tr th {\n",
              "        vertical-align: top;\n",
              "    }\n",
              "\n",
              "    .dataframe thead th {\n",
              "        text-align: right;\n",
              "    }\n",
              "</style>\n",
              "<table border=\"1\" class=\"dataframe\">\n",
              "  <thead>\n",
              "    <tr style=\"text-align: right;\">\n",
              "      <th></th>\n",
              "      <th>Close</th>\n",
              "    </tr>\n",
              "    <tr>\n",
              "      <th>Date</th>\n",
              "      <th></th>\n",
              "    </tr>\n",
              "  </thead>\n",
              "  <tbody>\n",
              "    <tr>\n",
              "      <th>1997-07-01</th>\n",
              "      <td>4300.859863</td>\n",
              "    </tr>\n",
              "    <tr>\n",
              "      <th>1997-07-02</th>\n",
              "      <td>4333.899902</td>\n",
              "    </tr>\n",
              "    <tr>\n",
              "      <th>1997-07-03</th>\n",
              "      <td>4323.459961</td>\n",
              "    </tr>\n",
              "    <tr>\n",
              "      <th>1997-07-04</th>\n",
              "      <td>4323.819824</td>\n",
              "    </tr>\n",
              "    <tr>\n",
              "      <th>1997-07-05</th>\n",
              "      <td>4313.029948</td>\n",
              "    </tr>\n",
              "    <tr>\n",
              "      <th>1997-07-06</th>\n",
              "      <td>4302.240072</td>\n",
              "    </tr>\n",
              "    <tr>\n",
              "      <th>1997-07-07</th>\n",
              "      <td>4291.450195</td>\n",
              "    </tr>\n",
              "    <tr>\n",
              "      <th>1997-07-08</th>\n",
              "      <td>4306.390137</td>\n",
              "    </tr>\n",
              "    <tr>\n",
              "      <th>1997-07-09</th>\n",
              "      <td>4404.689941</td>\n",
              "    </tr>\n",
              "    <tr>\n",
              "      <th>1997-07-10</th>\n",
              "      <td>4378.370117</td>\n",
              "    </tr>\n",
              "  </tbody>\n",
              "</table>\n",
              "</div>\n",
              "      <button class=\"colab-df-convert\" onclick=\"convertToInteractive('df-d62564ea-fcd9-497e-aad4-0dccf2fc8be9')\"\n",
              "              title=\"Convert this dataframe to an interactive table.\"\n",
              "              style=\"display:none;\">\n",
              "        \n",
              "  <svg xmlns=\"http://www.w3.org/2000/svg\" height=\"24px\"viewBox=\"0 0 24 24\"\n",
              "       width=\"24px\">\n",
              "    <path d=\"M0 0h24v24H0V0z\" fill=\"none\"/>\n",
              "    <path d=\"M18.56 5.44l.94 2.06.94-2.06 2.06-.94-2.06-.94-.94-2.06-.94 2.06-2.06.94zm-11 1L8.5 8.5l.94-2.06 2.06-.94-2.06-.94L8.5 2.5l-.94 2.06-2.06.94zm10 10l.94 2.06.94-2.06 2.06-.94-2.06-.94-.94-2.06-.94 2.06-2.06.94z\"/><path d=\"M17.41 7.96l-1.37-1.37c-.4-.4-.92-.59-1.43-.59-.52 0-1.04.2-1.43.59L10.3 9.45l-7.72 7.72c-.78.78-.78 2.05 0 2.83L4 21.41c.39.39.9.59 1.41.59.51 0 1.02-.2 1.41-.59l7.78-7.78 2.81-2.81c.8-.78.8-2.07 0-2.86zM5.41 20L4 18.59l7.72-7.72 1.47 1.35L5.41 20z\"/>\n",
              "  </svg>\n",
              "      </button>\n",
              "      \n",
              "  <style>\n",
              "    .colab-df-container {\n",
              "      display:flex;\n",
              "      flex-wrap:wrap;\n",
              "      gap: 12px;\n",
              "    }\n",
              "\n",
              "    .colab-df-convert {\n",
              "      background-color: #E8F0FE;\n",
              "      border: none;\n",
              "      border-radius: 50%;\n",
              "      cursor: pointer;\n",
              "      display: none;\n",
              "      fill: #1967D2;\n",
              "      height: 32px;\n",
              "      padding: 0 0 0 0;\n",
              "      width: 32px;\n",
              "    }\n",
              "\n",
              "    .colab-df-convert:hover {\n",
              "      background-color: #E2EBFA;\n",
              "      box-shadow: 0px 1px 2px rgba(60, 64, 67, 0.3), 0px 1px 3px 1px rgba(60, 64, 67, 0.15);\n",
              "      fill: #174EA6;\n",
              "    }\n",
              "\n",
              "    [theme=dark] .colab-df-convert {\n",
              "      background-color: #3B4455;\n",
              "      fill: #D2E3FC;\n",
              "    }\n",
              "\n",
              "    [theme=dark] .colab-df-convert:hover {\n",
              "      background-color: #434B5C;\n",
              "      box-shadow: 0px 1px 3px 1px rgba(0, 0, 0, 0.15);\n",
              "      filter: drop-shadow(0px 1px 2px rgba(0, 0, 0, 0.3));\n",
              "      fill: #FFFFFF;\n",
              "    }\n",
              "  </style>\n",
              "\n",
              "      <script>\n",
              "        const buttonEl =\n",
              "          document.querySelector('#df-d62564ea-fcd9-497e-aad4-0dccf2fc8be9 button.colab-df-convert');\n",
              "        buttonEl.style.display =\n",
              "          google.colab.kernel.accessAllowed ? 'block' : 'none';\n",
              "\n",
              "        async function convertToInteractive(key) {\n",
              "          const element = document.querySelector('#df-d62564ea-fcd9-497e-aad4-0dccf2fc8be9');\n",
              "          const dataTable =\n",
              "            await google.colab.kernel.invokeFunction('convertToInteractive',\n",
              "                                                     [key], {});\n",
              "          if (!dataTable) return;\n",
              "\n",
              "          const docLinkHtml = 'Like what you see? Visit the ' +\n",
              "            '<a target=\"_blank\" href=https://colab.research.google.com/notebooks/data_table.ipynb>data table notebook</a>'\n",
              "            + ' to learn more about interactive tables.';\n",
              "          element.innerHTML = '';\n",
              "          dataTable['output_type'] = 'display_data';\n",
              "          await google.colab.output.renderOutput(dataTable, element);\n",
              "          const docLink = document.createElement('div');\n",
              "          docLink.innerHTML = docLinkHtml;\n",
              "          element.appendChild(docLink);\n",
              "        }\n",
              "      </script>\n",
              "    </div>\n",
              "  </div>\n",
              "  "
            ]
          },
          "metadata": {},
          "execution_count": 190
        }
      ]
    },
    {
      "cell_type": "code",
      "source": [
        "df_seas.describe()"
      ],
      "metadata": {
        "colab": {
          "base_uri": "https://localhost:8080/",
          "height": 300
        },
        "id": "PYhyveSbBcIo",
        "outputId": "d0d06860-340e-4a1d-acae-fd07848c81ff"
      },
      "execution_count": 191,
      "outputs": [
        {
          "output_type": "execute_result",
          "data": {
            "text/plain": [
              "              Close\n",
              "count   8995.000000\n",
              "mean   18190.110812\n",
              "std    13848.020800\n",
              "min     2600.120117\n",
              "25%     4934.512451\n",
              "50%    16752.859375\n",
              "75%    27252.984375\n",
              "max    61765.589844"
            ],
            "text/html": [
              "\n",
              "  <div id=\"df-7d87f1f5-debb-4516-8535-3479d5084d33\">\n",
              "    <div class=\"colab-df-container\">\n",
              "      <div>\n",
              "<style scoped>\n",
              "    .dataframe tbody tr th:only-of-type {\n",
              "        vertical-align: middle;\n",
              "    }\n",
              "\n",
              "    .dataframe tbody tr th {\n",
              "        vertical-align: top;\n",
              "    }\n",
              "\n",
              "    .dataframe thead th {\n",
              "        text-align: right;\n",
              "    }\n",
              "</style>\n",
              "<table border=\"1\" class=\"dataframe\">\n",
              "  <thead>\n",
              "    <tr style=\"text-align: right;\">\n",
              "      <th></th>\n",
              "      <th>Close</th>\n",
              "    </tr>\n",
              "  </thead>\n",
              "  <tbody>\n",
              "    <tr>\n",
              "      <th>count</th>\n",
              "      <td>8995.000000</td>\n",
              "    </tr>\n",
              "    <tr>\n",
              "      <th>mean</th>\n",
              "      <td>18190.110812</td>\n",
              "    </tr>\n",
              "    <tr>\n",
              "      <th>std</th>\n",
              "      <td>13848.020800</td>\n",
              "    </tr>\n",
              "    <tr>\n",
              "      <th>min</th>\n",
              "      <td>2600.120117</td>\n",
              "    </tr>\n",
              "    <tr>\n",
              "      <th>25%</th>\n",
              "      <td>4934.512451</td>\n",
              "    </tr>\n",
              "    <tr>\n",
              "      <th>50%</th>\n",
              "      <td>16752.859375</td>\n",
              "    </tr>\n",
              "    <tr>\n",
              "      <th>75%</th>\n",
              "      <td>27252.984375</td>\n",
              "    </tr>\n",
              "    <tr>\n",
              "      <th>max</th>\n",
              "      <td>61765.589844</td>\n",
              "    </tr>\n",
              "  </tbody>\n",
              "</table>\n",
              "</div>\n",
              "      <button class=\"colab-df-convert\" onclick=\"convertToInteractive('df-7d87f1f5-debb-4516-8535-3479d5084d33')\"\n",
              "              title=\"Convert this dataframe to an interactive table.\"\n",
              "              style=\"display:none;\">\n",
              "        \n",
              "  <svg xmlns=\"http://www.w3.org/2000/svg\" height=\"24px\"viewBox=\"0 0 24 24\"\n",
              "       width=\"24px\">\n",
              "    <path d=\"M0 0h24v24H0V0z\" fill=\"none\"/>\n",
              "    <path d=\"M18.56 5.44l.94 2.06.94-2.06 2.06-.94-2.06-.94-.94-2.06-.94 2.06-2.06.94zm-11 1L8.5 8.5l.94-2.06 2.06-.94-2.06-.94L8.5 2.5l-.94 2.06-2.06.94zm10 10l.94 2.06.94-2.06 2.06-.94-2.06-.94-.94-2.06-.94 2.06-2.06.94z\"/><path d=\"M17.41 7.96l-1.37-1.37c-.4-.4-.92-.59-1.43-.59-.52 0-1.04.2-1.43.59L10.3 9.45l-7.72 7.72c-.78.78-.78 2.05 0 2.83L4 21.41c.39.39.9.59 1.41.59.51 0 1.02-.2 1.41-.59l7.78-7.78 2.81-2.81c.8-.78.8-2.07 0-2.86zM5.41 20L4 18.59l7.72-7.72 1.47 1.35L5.41 20z\"/>\n",
              "  </svg>\n",
              "      </button>\n",
              "      \n",
              "  <style>\n",
              "    .colab-df-container {\n",
              "      display:flex;\n",
              "      flex-wrap:wrap;\n",
              "      gap: 12px;\n",
              "    }\n",
              "\n",
              "    .colab-df-convert {\n",
              "      background-color: #E8F0FE;\n",
              "      border: none;\n",
              "      border-radius: 50%;\n",
              "      cursor: pointer;\n",
              "      display: none;\n",
              "      fill: #1967D2;\n",
              "      height: 32px;\n",
              "      padding: 0 0 0 0;\n",
              "      width: 32px;\n",
              "    }\n",
              "\n",
              "    .colab-df-convert:hover {\n",
              "      background-color: #E2EBFA;\n",
              "      box-shadow: 0px 1px 2px rgba(60, 64, 67, 0.3), 0px 1px 3px 1px rgba(60, 64, 67, 0.15);\n",
              "      fill: #174EA6;\n",
              "    }\n",
              "\n",
              "    [theme=dark] .colab-df-convert {\n",
              "      background-color: #3B4455;\n",
              "      fill: #D2E3FC;\n",
              "    }\n",
              "\n",
              "    [theme=dark] .colab-df-convert:hover {\n",
              "      background-color: #434B5C;\n",
              "      box-shadow: 0px 1px 3px 1px rgba(0, 0, 0, 0.15);\n",
              "      filter: drop-shadow(0px 1px 2px rgba(0, 0, 0, 0.3));\n",
              "      fill: #FFFFFF;\n",
              "    }\n",
              "  </style>\n",
              "\n",
              "      <script>\n",
              "        const buttonEl =\n",
              "          document.querySelector('#df-7d87f1f5-debb-4516-8535-3479d5084d33 button.colab-df-convert');\n",
              "        buttonEl.style.display =\n",
              "          google.colab.kernel.accessAllowed ? 'block' : 'none';\n",
              "\n",
              "        async function convertToInteractive(key) {\n",
              "          const element = document.querySelector('#df-7d87f1f5-debb-4516-8535-3479d5084d33');\n",
              "          const dataTable =\n",
              "            await google.colab.kernel.invokeFunction('convertToInteractive',\n",
              "                                                     [key], {});\n",
              "          if (!dataTable) return;\n",
              "\n",
              "          const docLinkHtml = 'Like what you see? Visit the ' +\n",
              "            '<a target=\"_blank\" href=https://colab.research.google.com/notebooks/data_table.ipynb>data table notebook</a>'\n",
              "            + ' to learn more about interactive tables.';\n",
              "          element.innerHTML = '';\n",
              "          dataTable['output_type'] = 'display_data';\n",
              "          await google.colab.output.renderOutput(dataTable, element);\n",
              "          const docLink = document.createElement('div');\n",
              "          docLink.innerHTML = docLinkHtml;\n",
              "          element.appendChild(docLink);\n",
              "        }\n",
              "      </script>\n",
              "    </div>\n",
              "  </div>\n",
              "  "
            ]
          },
          "metadata": {},
          "execution_count": 191
        }
      ]
    },
    {
      "cell_type": "code",
      "source": [
        "df_sensex_heat = df_sensex.copy()\n",
        "df_sensex_heat.drop(\"Date\", axis=1, inplace=True)\n",
        "df_sensex_heat"
      ],
      "metadata": {
        "colab": {
          "base_uri": "https://localhost:8080/",
          "height": 423
        },
        "id": "FTaBidMJEYfE",
        "outputId": "fd17c9a8-314d-4196-90a2-b52df7e4dbd2"
      },
      "execution_count": 192,
      "outputs": [
        {
          "output_type": "execute_result",
          "data": {
            "text/plain": [
              "              Open          High           Low         Close     Adj Close  \\\n",
              "0      4263.109863   4301.770020   4247.660156   4300.859863   4300.859863   \n",
              "1      4302.959961   4395.310059   4295.399902   4333.899902   4333.899902   \n",
              "2      4335.790039   4393.290039   4299.970215   4323.459961   4323.459961   \n",
              "3      4332.700195   4347.589844   4300.580078   4323.819824   4323.819824   \n",
              "4      4326.810059   4391.009766   4289.490234   4291.450195   4291.450195   \n",
              "...            ...           ...           ...           ...           ...   \n",
              "6061  57799.671875  57925.820312  57058.769531  57808.578125  57808.578125   \n",
              "6062  58163.011719  58507.609375  58105.179688  58465.968750  58465.968750   \n",
              "6063  58810.531250  59060.238281  58332.281250  58926.031250  58926.031250   \n",
              "6064  58447.148438  58447.148438  57914.101562  58152.921875  58152.921875   \n",
              "6065  56720.320312  57191.910156  56295.699219  56405.839844  56405.839844   \n",
              "\n",
              "      Volume  \n",
              "0          0  \n",
              "1          0  \n",
              "2          0  \n",
              "3          0  \n",
              "4          0  \n",
              "...      ...  \n",
              "6061    8900  \n",
              "6062    5900  \n",
              "6063    6700  \n",
              "6064    5700  \n",
              "6065       0  \n",
              "\n",
              "[6066 rows x 6 columns]"
            ],
            "text/html": [
              "\n",
              "  <div id=\"df-fcff1d1a-6484-47b4-9e81-af2b9a4ad4bc\">\n",
              "    <div class=\"colab-df-container\">\n",
              "      <div>\n",
              "<style scoped>\n",
              "    .dataframe tbody tr th:only-of-type {\n",
              "        vertical-align: middle;\n",
              "    }\n",
              "\n",
              "    .dataframe tbody tr th {\n",
              "        vertical-align: top;\n",
              "    }\n",
              "\n",
              "    .dataframe thead th {\n",
              "        text-align: right;\n",
              "    }\n",
              "</style>\n",
              "<table border=\"1\" class=\"dataframe\">\n",
              "  <thead>\n",
              "    <tr style=\"text-align: right;\">\n",
              "      <th></th>\n",
              "      <th>Open</th>\n",
              "      <th>High</th>\n",
              "      <th>Low</th>\n",
              "      <th>Close</th>\n",
              "      <th>Adj Close</th>\n",
              "      <th>Volume</th>\n",
              "    </tr>\n",
              "  </thead>\n",
              "  <tbody>\n",
              "    <tr>\n",
              "      <th>0</th>\n",
              "      <td>4263.109863</td>\n",
              "      <td>4301.770020</td>\n",
              "      <td>4247.660156</td>\n",
              "      <td>4300.859863</td>\n",
              "      <td>4300.859863</td>\n",
              "      <td>0</td>\n",
              "    </tr>\n",
              "    <tr>\n",
              "      <th>1</th>\n",
              "      <td>4302.959961</td>\n",
              "      <td>4395.310059</td>\n",
              "      <td>4295.399902</td>\n",
              "      <td>4333.899902</td>\n",
              "      <td>4333.899902</td>\n",
              "      <td>0</td>\n",
              "    </tr>\n",
              "    <tr>\n",
              "      <th>2</th>\n",
              "      <td>4335.790039</td>\n",
              "      <td>4393.290039</td>\n",
              "      <td>4299.970215</td>\n",
              "      <td>4323.459961</td>\n",
              "      <td>4323.459961</td>\n",
              "      <td>0</td>\n",
              "    </tr>\n",
              "    <tr>\n",
              "      <th>3</th>\n",
              "      <td>4332.700195</td>\n",
              "      <td>4347.589844</td>\n",
              "      <td>4300.580078</td>\n",
              "      <td>4323.819824</td>\n",
              "      <td>4323.819824</td>\n",
              "      <td>0</td>\n",
              "    </tr>\n",
              "    <tr>\n",
              "      <th>4</th>\n",
              "      <td>4326.810059</td>\n",
              "      <td>4391.009766</td>\n",
              "      <td>4289.490234</td>\n",
              "      <td>4291.450195</td>\n",
              "      <td>4291.450195</td>\n",
              "      <td>0</td>\n",
              "    </tr>\n",
              "    <tr>\n",
              "      <th>...</th>\n",
              "      <td>...</td>\n",
              "      <td>...</td>\n",
              "      <td>...</td>\n",
              "      <td>...</td>\n",
              "      <td>...</td>\n",
              "      <td>...</td>\n",
              "    </tr>\n",
              "    <tr>\n",
              "      <th>6061</th>\n",
              "      <td>57799.671875</td>\n",
              "      <td>57925.820312</td>\n",
              "      <td>57058.769531</td>\n",
              "      <td>57808.578125</td>\n",
              "      <td>57808.578125</td>\n",
              "      <td>8900</td>\n",
              "    </tr>\n",
              "    <tr>\n",
              "      <th>6062</th>\n",
              "      <td>58163.011719</td>\n",
              "      <td>58507.609375</td>\n",
              "      <td>58105.179688</td>\n",
              "      <td>58465.968750</td>\n",
              "      <td>58465.968750</td>\n",
              "      <td>5900</td>\n",
              "    </tr>\n",
              "    <tr>\n",
              "      <th>6063</th>\n",
              "      <td>58810.531250</td>\n",
              "      <td>59060.238281</td>\n",
              "      <td>58332.281250</td>\n",
              "      <td>58926.031250</td>\n",
              "      <td>58926.031250</td>\n",
              "      <td>6700</td>\n",
              "    </tr>\n",
              "    <tr>\n",
              "      <th>6064</th>\n",
              "      <td>58447.148438</td>\n",
              "      <td>58447.148438</td>\n",
              "      <td>57914.101562</td>\n",
              "      <td>58152.921875</td>\n",
              "      <td>58152.921875</td>\n",
              "      <td>5700</td>\n",
              "    </tr>\n",
              "    <tr>\n",
              "      <th>6065</th>\n",
              "      <td>56720.320312</td>\n",
              "      <td>57191.910156</td>\n",
              "      <td>56295.699219</td>\n",
              "      <td>56405.839844</td>\n",
              "      <td>56405.839844</td>\n",
              "      <td>0</td>\n",
              "    </tr>\n",
              "  </tbody>\n",
              "</table>\n",
              "<p>6066 rows × 6 columns</p>\n",
              "</div>\n",
              "      <button class=\"colab-df-convert\" onclick=\"convertToInteractive('df-fcff1d1a-6484-47b4-9e81-af2b9a4ad4bc')\"\n",
              "              title=\"Convert this dataframe to an interactive table.\"\n",
              "              style=\"display:none;\">\n",
              "        \n",
              "  <svg xmlns=\"http://www.w3.org/2000/svg\" height=\"24px\"viewBox=\"0 0 24 24\"\n",
              "       width=\"24px\">\n",
              "    <path d=\"M0 0h24v24H0V0z\" fill=\"none\"/>\n",
              "    <path d=\"M18.56 5.44l.94 2.06.94-2.06 2.06-.94-2.06-.94-.94-2.06-.94 2.06-2.06.94zm-11 1L8.5 8.5l.94-2.06 2.06-.94-2.06-.94L8.5 2.5l-.94 2.06-2.06.94zm10 10l.94 2.06.94-2.06 2.06-.94-2.06-.94-.94-2.06-.94 2.06-2.06.94z\"/><path d=\"M17.41 7.96l-1.37-1.37c-.4-.4-.92-.59-1.43-.59-.52 0-1.04.2-1.43.59L10.3 9.45l-7.72 7.72c-.78.78-.78 2.05 0 2.83L4 21.41c.39.39.9.59 1.41.59.51 0 1.02-.2 1.41-.59l7.78-7.78 2.81-2.81c.8-.78.8-2.07 0-2.86zM5.41 20L4 18.59l7.72-7.72 1.47 1.35L5.41 20z\"/>\n",
              "  </svg>\n",
              "      </button>\n",
              "      \n",
              "  <style>\n",
              "    .colab-df-container {\n",
              "      display:flex;\n",
              "      flex-wrap:wrap;\n",
              "      gap: 12px;\n",
              "    }\n",
              "\n",
              "    .colab-df-convert {\n",
              "      background-color: #E8F0FE;\n",
              "      border: none;\n",
              "      border-radius: 50%;\n",
              "      cursor: pointer;\n",
              "      display: none;\n",
              "      fill: #1967D2;\n",
              "      height: 32px;\n",
              "      padding: 0 0 0 0;\n",
              "      width: 32px;\n",
              "    }\n",
              "\n",
              "    .colab-df-convert:hover {\n",
              "      background-color: #E2EBFA;\n",
              "      box-shadow: 0px 1px 2px rgba(60, 64, 67, 0.3), 0px 1px 3px 1px rgba(60, 64, 67, 0.15);\n",
              "      fill: #174EA6;\n",
              "    }\n",
              "\n",
              "    [theme=dark] .colab-df-convert {\n",
              "      background-color: #3B4455;\n",
              "      fill: #D2E3FC;\n",
              "    }\n",
              "\n",
              "    [theme=dark] .colab-df-convert:hover {\n",
              "      background-color: #434B5C;\n",
              "      box-shadow: 0px 1px 3px 1px rgba(0, 0, 0, 0.15);\n",
              "      filter: drop-shadow(0px 1px 2px rgba(0, 0, 0, 0.3));\n",
              "      fill: #FFFFFF;\n",
              "    }\n",
              "  </style>\n",
              "\n",
              "      <script>\n",
              "        const buttonEl =\n",
              "          document.querySelector('#df-fcff1d1a-6484-47b4-9e81-af2b9a4ad4bc button.colab-df-convert');\n",
              "        buttonEl.style.display =\n",
              "          google.colab.kernel.accessAllowed ? 'block' : 'none';\n",
              "\n",
              "        async function convertToInteractive(key) {\n",
              "          const element = document.querySelector('#df-fcff1d1a-6484-47b4-9e81-af2b9a4ad4bc');\n",
              "          const dataTable =\n",
              "            await google.colab.kernel.invokeFunction('convertToInteractive',\n",
              "                                                     [key], {});\n",
              "          if (!dataTable) return;\n",
              "\n",
              "          const docLinkHtml = 'Like what you see? Visit the ' +\n",
              "            '<a target=\"_blank\" href=https://colab.research.google.com/notebooks/data_table.ipynb>data table notebook</a>'\n",
              "            + ' to learn more about interactive tables.';\n",
              "          element.innerHTML = '';\n",
              "          dataTable['output_type'] = 'display_data';\n",
              "          await google.colab.output.renderOutput(dataTable, element);\n",
              "          const docLink = document.createElement('div');\n",
              "          docLink.innerHTML = docLinkHtml;\n",
              "          element.appendChild(docLink);\n",
              "        }\n",
              "      </script>\n",
              "    </div>\n",
              "  </div>\n",
              "  "
            ]
          },
          "metadata": {},
          "execution_count": 192
        }
      ]
    },
    {
      "cell_type": "code",
      "execution_count": 193,
      "metadata": {
        "id": "1LkgVmGziva0"
      },
      "outputs": [],
      "source": [
        "df_nifty = pd.read_csv('nifty.csv')\n",
        "#print(df_nifty)"
      ]
    },
    {
      "cell_type": "code",
      "execution_count": 194,
      "metadata": {
        "id": "0bXchfrIiva1"
      },
      "outputs": [],
      "source": [
        "df_tata = pd.read_csv('tata.csv')\n",
        "#print(df_tata)"
      ]
    },
    {
      "cell_type": "code",
      "execution_count": 195,
      "metadata": {
        "id": "Nnj80f0miva1"
      },
      "outputs": [],
      "source": [
        "df_infosys = pd.read_csv('infosys.csv')\n",
        "#print(df_infosys)"
      ]
    },
    {
      "cell_type": "code",
      "execution_count": 196,
      "metadata": {
        "id": "N4DtwTt8iva2"
      },
      "outputs": [],
      "source": [
        "df1=df_seas.reset_index()['Close']\n",
        "df2=df_nifty.reset_index()['Close']\n",
        "df3=df_tata.reset_index()['Close']\n",
        "df4=df_infosys.reset_index()['Close']"
      ]
    },
    {
      "cell_type": "code",
      "execution_count": 197,
      "metadata": {
        "colab": {
          "base_uri": "https://localhost:8080/"
        },
        "id": "PszR-H-yiva2",
        "outputId": "a2265e5d-051f-4b96-91b5-1ac1a2eb8ac7"
      },
      "outputs": [
        {
          "output_type": "stream",
          "name": "stdout",
          "text": [
            "(8995,)\n",
            "(3529,)\n",
            "(4378,)\n",
            "(5772,)\n"
          ]
        }
      ],
      "source": [
        "print(df1.shape)\n",
        "print(df2.shape)\n",
        "print(df3.shape)\n",
        "print(df4.shape)"
      ]
    },
    {
      "cell_type": "code",
      "execution_count": 198,
      "metadata": {
        "id": "RpvKrRxQiva4"
      },
      "outputs": [],
      "source": [
        "import numpy as np\n",
        "from sklearn.preprocessing import MinMaxScaler\n",
        "scaler=MinMaxScaler(feature_range=(0,1))\n",
        "df1=scaler.fit_transform(np.array(df1).reshape(-1,1))\n",
        "df2=scaler.fit_transform(np.array(df2).reshape(-1,1))\n",
        "df3=scaler.fit_transform(np.array(df3).reshape(-1,1))\n",
        "df4=scaler.fit_transform(np.array(df4).reshape(-1,1))"
      ]
    },
    {
      "cell_type": "code",
      "execution_count": 199,
      "metadata": {
        "colab": {
          "base_uri": "https://localhost:8080/",
          "height": 844
        },
        "id": "t6OsPiOtiva_",
        "outputId": "3446a710-5957-464f-f137-dbe5f8ced59c"
      },
      "outputs": [
        {
          "output_type": "execute_result",
          "data": {
            "text/plain": [
              "[<matplotlib.lines.Line2D at 0x7f5b108d2e10>]"
            ]
          },
          "metadata": {},
          "execution_count": 199
        },
        {
          "output_type": "display_data",
          "data": {
            "text/plain": [
              "<Figure size 1440x1008 with 4 Axes>"
            ],
            "image/png": "[encoded data removed]"
          },
          "metadata": {
            "needs_background": "light"
          }
        }
      ],
      "source": [
        "import matplotlib.pyplot as plt\n",
        "f, axs = plt.subplots(2,2,figsize=(20,14))\n",
        "axs[0,0].set_title('Sensex')\n",
        "axs[0,0].plot(df1)\n",
        "axs[0,1].set_title('Nifty')\n",
        "axs[0,1].plot(df2)\n",
        "axs[1,0].set_title('Tata Motors')\n",
        "axs[1,0].plot(df3)\n",
        "axs[1,1].set_title('Infosys')\n",
        "axs[1,1].plot(df4)"
      ]
    },
    {
      "cell_type": "code",
      "source": [
        "!pip install seaborn"
      ],
      "metadata": {
        "colab": {
          "base_uri": "https://localhost:8080/"
        },
        "id": "QgRt5ybYKbF1",
        "outputId": "8dd731ee-18e3-4408-a96d-0d25bbe78061"
      },
      "execution_count": 200,
      "outputs": [
        {
          "output_type": "stream",
          "name": "stdout",
          "text": [
            "Requirement already satisfied: seaborn in /usr/local/lib/python3.7/dist-packages (0.11.2)\n",
            "Requirement already satisfied: scipy>=1.0 in /usr/local/lib/python3.7/dist-packages (from seaborn) (1.4.1)\n",
            "Requirement already satisfied: pandas>=0.23 in /usr/local/lib/python3.7/dist-packages (from seaborn) (1.3.5)\n",
            "Requirement already satisfied: matplotlib>=2.2 in /usr/local/lib/python3.7/dist-packages (from seaborn) (3.2.2)\n",
            "Requirement already satisfied: numpy>=1.15 in /usr/local/lib/python3.7/dist-packages (from seaborn) (1.21.6)\n",
            "Requirement already satisfied: cycler>=0.10 in /usr/local/lib/python3.7/dist-packages (from matplotlib>=2.2->seaborn) (0.11.0)\n",
            "Requirement already satisfied: pyparsing!=2.0.4,!=2.1.2,!=2.1.6,>=2.0.1 in /usr/local/lib/python3.7/dist-packages (from matplotlib>=2.2->seaborn) (3.0.8)\n",
            "Requirement already satisfied: python-dateutil>=2.1 in /usr/local/lib/python3.7/dist-packages (from matplotlib>=2.2->seaborn) (2.8.2)\n",
            "Requirement already satisfied: kiwisolver>=1.0.1 in /usr/local/lib/python3.7/dist-packages (from matplotlib>=2.2->seaborn) (1.4.2)\n",
            "Requirement already satisfied: typing-extensions in /usr/local/lib/python3.7/dist-packages (from kiwisolver>=1.0.1->matplotlib>=2.2->seaborn) (4.2.0)\n",
            "Requirement already satisfied: pytz>=2017.3 in /usr/local/lib/python3.7/dist-packages (from pandas>=0.23->seaborn) (2022.1)\n",
            "Requirement already satisfied: six>=1.5 in /usr/local/lib/python3.7/dist-packages (from python-dateutil>=2.1->matplotlib>=2.2->seaborn) (1.15.0)\n"
          ]
        }
      ]
    },
    {
      "cell_type": "code",
      "source": [
        "import seaborn as sns\n",
        "corr = df_sensex_heat.corr(method = 'spearman')\n",
        "sns.heatmap(corr, annot = True)\n",
        "plt.show()"
      ],
      "metadata": {
        "colab": {
          "base_uri": "https://localhost:8080/",
          "height": 269
        },
        "id": "vcDeqgCYKE0f",
        "outputId": "0e22228e-cfb4-497f-ecd9-b9181fdff667"
      },
      "execution_count": 201,
      "outputs": [
        {
          "output_type": "display_data",
          "data": {
            "text/plain": [
              "<Figure size 432x288 with 2 Axes>"
            ],
            "image/png": "[encoded data removed]"
          },
          "metadata": {
            "needs_background": "light"
          }
        }
      ]
    },
    {
      "cell_type": "code",
      "source": [
        "from statsmodels.tsa.seasonal import seasonal_decompose\n",
        "decompose_data = seasonal_decompose(df_seas,model=\"additive\")\n",
        "decompose_data.plot();"
      ],
      "metadata": {
        "colab": {
          "base_uri": "https://localhost:8080/",
          "height": 298
        },
        "id": "9Xia3D-wwA4L",
        "outputId": "968a89d5-4e87-4043-c62f-efc14c77713a"
      },
      "execution_count": 202,
      "outputs": [
        {
          "output_type": "display_data",
          "data": {
            "text/plain": [
              "<Figure size 432x288 with 4 Axes>"
            ],
            "image/png": "[encoded data removed]"
          },
          "metadata": {
            "needs_background": "light"
          }
        }
      ]
    },
    {
      "cell_type": "code",
      "execution_count": 203,
      "metadata": {
        "id": "FGjJ5pcLivbE"
      },
      "outputs": [],
      "source": [
        "def create_dataset(dataset, time_step=1):\n",
        "    dataX, dataY = [], []\n",
        "    for i in range(len(dataset)-time_step-1):\n",
        "        a = dataset[i:(i+time_step), 0]\n",
        "        dataX.append(a)\n",
        "        dataY.append(dataset[i + time_step, 0])\n",
        "    return np.array(dataX), np.array(dataY)"
      ]
    },
    {
      "cell_type": "code",
      "source": [
        "split=0.8\n",
        "time_step=10\n",
        "ep_vanilla=50\n",
        "ep_lstm=50\n",
        "ep_bi_lstm=50\n",
        "look_back=time_step\n",
        "days=7"
      ],
      "metadata": {
        "id": "e8M1LRMlpm41"
      },
      "execution_count": 204,
      "outputs": []
    },
    {
      "cell_type": "code",
      "execution_count": 205,
      "metadata": {
        "id": "w6uypblgivbF"
      },
      "outputs": [],
      "source": [
        "# split=0.95\n",
        "training_size_sensex=int(len(df1)*split)\n",
        "test_size_sensex=len(df1)-training_size_sensex\n",
        "train_data_sensex,test_data_sensex=df1[0:training_size_sensex,:],df1[training_size_sensex:len(df1),:1]\n",
        "\n",
        "# time_step = 14\n",
        "X_train_sensex, y_train_sensex = create_dataset(train_data_sensex, time_step)\n",
        "X_test_sensex, ytest_sensex = create_dataset(test_data_sensex, time_step)\n",
        "\n",
        "X_train_sensex =X_train_sensex.reshape(X_train_sensex.shape[0],X_train_sensex.shape[1] , 1)\n",
        "X_test_sensex = X_test_sensex.reshape(X_test_sensex.shape[0],X_test_sensex.shape[1] , 1)"
      ]
    },
    {
      "cell_type": "code",
      "execution_count": 206,
      "metadata": {
        "id": "wlstfotzivbG"
      },
      "outputs": [],
      "source": [
        "\n",
        "training_size_nifty=int(len(df2)*split)\n",
        "test_size_nifty=len(df2)-training_size_nifty\n",
        "train_data_nifty,test_data_nifty=df2[0:training_size_nifty,:],df2[training_size_nifty:len(df2),:1]\n",
        "\n",
        "# time_step = 14\n",
        "X_train_nifty, y_train_nifty = create_dataset(train_data_nifty, time_step)\n",
        "X_test_nifty, ytest_nifty = create_dataset(test_data_nifty, time_step)\n",
        "\n",
        "X_train_nifty =X_train_nifty.reshape(X_train_nifty.shape[0],X_train_nifty.shape[1] , 1)\n",
        "X_test_nifty = X_test_nifty.reshape(X_test_nifty.shape[0],X_test_nifty.shape[1] , 1)"
      ]
    },
    {
      "cell_type": "code",
      "execution_count": 207,
      "metadata": {
        "id": "93SjwV3AivbG"
      },
      "outputs": [],
      "source": [
        "training_size_tata=int(len(df3)*split)\n",
        "test_size_tata=len(df3)-training_size_tata\n",
        "train_data_tata,test_data_tata=df3[0:training_size_tata,:],df3[training_size_tata:len(df3),:1]\n",
        "\n",
        "# time_step = 14\n",
        "X_train_tata, y_train_tata = create_dataset(train_data_tata, time_step)\n",
        "X_test_tata, ytest_tata = create_dataset(test_data_tata, time_step)\n",
        "\n",
        "X_train_tata =X_train_tata.reshape(X_train_tata.shape[0],X_train_tata.shape[1] , 1)\n",
        "X_test_tata = X_test_tata.reshape(X_test_tata.shape[0],X_test_tata.shape[1] , 1)"
      ]
    },
    {
      "cell_type": "code",
      "execution_count": 208,
      "metadata": {
        "id": "ELQ38udbivbH"
      },
      "outputs": [],
      "source": [
        "training_size_infosys=int(len(df4)*split)\n",
        "test_size_infosys=len(df4)-training_size_infosys\n",
        "train_data_infosys,test_data_infosys=df4[0:training_size_infosys,:],df4[training_size_infosys:len(df4),:1]\n",
        "\n",
        "# time_step = 14\n",
        "X_train_infosys, y_train_infosys = create_dataset(train_data_infosys, time_step)\n",
        "X_test_infosys, ytest_infosys = create_dataset(test_data_infosys, time_step)\n",
        "\n",
        "X_train_infosys =X_train_infosys.reshape(X_train_infosys.shape[0],X_train_infosys.shape[1] , 1)\n",
        "X_test_infosys = X_test_infosys.reshape(X_test_infosys.shape[0],X_test_infosys.shape[1] , 1)"
      ]
    },
    {
      "cell_type": "code",
      "execution_count": 209,
      "metadata": {
        "id": "iJ1A1J6kivbH"
      },
      "outputs": [],
      "source": [
        "from tensorflow.keras.models import Sequential\n",
        "from tensorflow.keras.layers import Dense\n",
        "from tensorflow.keras.layers import LSTM,Bidirectional,Dropout"
      ]
    },
    {
      "cell_type": "markdown",
      "source": [
        "## **VANILLA LSTM**"
      ],
      "metadata": {
        "id": "eyoakyy8nZZg"
      }
    },
    {
      "cell_type": "code",
      "source": [
        "# Vanilla LSTM\n",
        "model_vanilla = Sequential()\n",
        "model_vanilla.add(LSTM(100, activation='relu', input_shape=(time_step,1)))\n",
        "model_vanilla.add(Dense(1))\n",
        "model_vanilla.compile(optimizer='adam', loss='mse')\n",
        "model_vanilla.summary()"
      ],
      "metadata": {
        "colab": {
          "base_uri": "https://localhost:8080/"
        },
        "id": "hfmb7E6FBPNx",
        "outputId": "5efa1aaa-ab19-4990-842e-4c208e8f0091"
      },
      "execution_count": 210,
      "outputs": [
        {
          "output_type": "stream",
          "name": "stdout",
          "text": [
            "Model: \"sequential_26\"\n",
            "_________________________________________________________________\n",
            " Layer (type)                Output Shape              Param #   \n",
            "=================================================================\n",
            " lstm_60 (LSTM)              (None, 100)               40800     \n",
            "                                                                 \n",
            " dense_26 (Dense)            (None, 1)                 101       \n",
            "                                                                 \n",
            "=================================================================\n",
            "Total params: 40,901\n",
            "Trainable params: 40,901\n",
            "Non-trainable params: 0\n",
            "_________________________________________________________________\n"
          ]
        }
      ]
    },
    {
      "cell_type": "code",
      "source": [
        "history_vanilla = model_vanilla.fit(X_train_sensex, y_train_sensex,batch_size=64,epochs=ep_vanilla,validation_data=[X_test_sensex, ytest_sensex],verbose=1)"
      ],
      "metadata": {
        "colab": {
          "base_uri": "https://localhost:8080/"
        },
        "id": "MZkuB5-aiUno",
        "outputId": "bbaccc2e-aab8-4020-a8d1-4caa34693c16"
      },
      "execution_count": 211,
      "outputs": [
        {
          "output_type": "stream",
          "name": "stdout",
          "text": [
            "Epoch 1/50\n",
            "113/113 [==============================] - 3s 17ms/step - loss: 0.0045 - val_loss: 0.0039\n",
            "Epoch 2/50\n",
            "113/113 [==============================] - 2s 14ms/step - loss: 2.5863e-05 - val_loss: 0.0028\n",
            "Epoch 3/50\n",
            "113/113 [==============================] - 2s 15ms/step - loss: 2.4691e-05 - val_loss: 0.0023\n",
            "Epoch 4/50\n",
            "113/113 [==============================] - 2s 14ms/step - loss: 2.4634e-05 - val_loss: 0.0025\n",
            "Epoch 5/50\n",
            "113/113 [==============================] - 2s 14ms/step - loss: 2.5012e-05 - val_loss: 0.0019\n",
            "Epoch 6/50\n",
            "113/113 [==============================] - 2s 14ms/step - loss: 2.5739e-05 - val_loss: 0.0021\n",
            "Epoch 7/50\n",
            "113/113 [==============================] - 2s 14ms/step - loss: 2.5009e-05 - val_loss: 0.0013\n",
            "Epoch 8/50\n",
            "113/113 [==============================] - 2s 15ms/step - loss: 2.4620e-05 - val_loss: 0.0018\n",
            "Epoch 9/50\n",
            "113/113 [==============================] - 2s 15ms/step - loss: 2.3156e-05 - val_loss: 0.0012\n",
            "Epoch 10/50\n",
            "113/113 [==============================] - 2s 15ms/step - loss: 2.4481e-05 - val_loss: 0.0017\n",
            "Epoch 11/50\n",
            "113/113 [==============================] - 2s 15ms/step - loss: 2.4406e-05 - val_loss: 0.0018\n",
            "Epoch 12/50\n",
            "113/113 [==============================] - 2s 14ms/step - loss: 2.3103e-05 - val_loss: 0.0013\n",
            "Epoch 13/50\n",
            "113/113 [==============================] - 2s 14ms/step - loss: 2.2898e-05 - val_loss: 0.0014\n",
            "Epoch 14/50\n",
            "113/113 [==============================] - 2s 14ms/step - loss: 2.1944e-05 - val_loss: 0.0013\n",
            "Epoch 15/50\n",
            "113/113 [==============================] - 2s 14ms/step - loss: 2.2083e-05 - val_loss: 0.0013\n",
            "Epoch 16/50\n",
            "113/113 [==============================] - 2s 14ms/step - loss: 2.2726e-05 - val_loss: 0.0022\n",
            "Epoch 17/50\n",
            "113/113 [==============================] - 2s 14ms/step - loss: 2.2876e-05 - val_loss: 0.0021\n",
            "Epoch 18/50\n",
            "113/113 [==============================] - 2s 14ms/step - loss: 2.0963e-05 - val_loss: 0.0011\n",
            "Epoch 19/50\n",
            "113/113 [==============================] - 2s 14ms/step - loss: 2.1216e-05 - val_loss: 0.0014\n",
            "Epoch 20/50\n",
            "113/113 [==============================] - 2s 14ms/step - loss: 1.9346e-05 - val_loss: 0.0011\n",
            "Epoch 21/50\n",
            "113/113 [==============================] - 2s 14ms/step - loss: 1.9461e-05 - val_loss: 0.0014\n",
            "Epoch 22/50\n",
            "113/113 [==============================] - 2s 14ms/step - loss: 2.0117e-05 - val_loss: 0.0012\n",
            "Epoch 23/50\n",
            "113/113 [==============================] - 2s 14ms/step - loss: 1.7531e-05 - val_loss: 0.0015\n",
            "Epoch 24/50\n",
            "113/113 [==============================] - 2s 14ms/step - loss: 1.8403e-05 - val_loss: 0.0011\n",
            "Epoch 25/50\n",
            "113/113 [==============================] - 2s 14ms/step - loss: 1.8091e-05 - val_loss: 0.0013\n",
            "Epoch 26/50\n",
            "113/113 [==============================] - 2s 14ms/step - loss: 1.6261e-05 - val_loss: 0.0011\n",
            "Epoch 27/50\n",
            "113/113 [==============================] - 2s 14ms/step - loss: 1.5778e-05 - val_loss: 6.9580e-04\n",
            "Epoch 28/50\n",
            "113/113 [==============================] - 2s 14ms/step - loss: 1.6195e-05 - val_loss: 4.2359e-04\n",
            "Epoch 29/50\n",
            "113/113 [==============================] - 2s 14ms/step - loss: 1.7446e-05 - val_loss: 6.6793e-04\n",
            "Epoch 30/50\n",
            "113/113 [==============================] - 2s 14ms/step - loss: 1.5343e-05 - val_loss: 7.1721e-04\n",
            "Epoch 31/50\n",
            "113/113 [==============================] - 2s 15ms/step - loss: 1.5633e-05 - val_loss: 5.3619e-04\n",
            "Epoch 32/50\n",
            "113/113 [==============================] - 2s 15ms/step - loss: 1.4233e-05 - val_loss: 3.3759e-04\n",
            "Epoch 33/50\n",
            "113/113 [==============================] - 2s 14ms/step - loss: 1.5441e-05 - val_loss: 2.2691e-04\n",
            "Epoch 34/50\n",
            "113/113 [==============================] - 2s 15ms/step - loss: 1.5175e-05 - val_loss: 3.6586e-04\n",
            "Epoch 35/50\n",
            "113/113 [==============================] - 2s 14ms/step - loss: 1.3431e-05 - val_loss: 1.5528e-04\n",
            "Epoch 36/50\n",
            "113/113 [==============================] - 2s 14ms/step - loss: 1.2610e-05 - val_loss: 6.8852e-05\n",
            "Epoch 37/50\n",
            "113/113 [==============================] - 2s 14ms/step - loss: 1.3458e-05 - val_loss: 7.5305e-05\n",
            "Epoch 38/50\n",
            "113/113 [==============================] - 2s 14ms/step - loss: 1.2732e-05 - val_loss: 6.5890e-05\n",
            "Epoch 39/50\n",
            "113/113 [==============================] - 2s 14ms/step - loss: 1.3267e-05 - val_loss: 3.3526e-04\n",
            "Epoch 40/50\n",
            "113/113 [==============================] - 2s 14ms/step - loss: 1.4446e-05 - val_loss: 8.4771e-05\n",
            "Epoch 41/50\n",
            "113/113 [==============================] - 2s 14ms/step - loss: 1.2314e-05 - val_loss: 1.4128e-04\n",
            "Epoch 42/50\n",
            "113/113 [==============================] - 2s 14ms/step - loss: 1.4194e-05 - val_loss: 7.3510e-05\n",
            "Epoch 43/50\n",
            "113/113 [==============================] - 2s 15ms/step - loss: 1.1794e-05 - val_loss: 3.2876e-04\n",
            "Epoch 44/50\n",
            "113/113 [==============================] - 2s 14ms/step - loss: 1.3245e-05 - val_loss: 8.1393e-05\n",
            "Epoch 45/50\n",
            "113/113 [==============================] - 2s 14ms/step - loss: 1.1752e-05 - val_loss: 2.5235e-04\n",
            "Epoch 46/50\n",
            "113/113 [==============================] - 2s 14ms/step - loss: 1.2433e-05 - val_loss: 1.4871e-04\n",
            "Epoch 47/50\n",
            "113/113 [==============================] - 2s 14ms/step - loss: 1.1221e-05 - val_loss: 2.3953e-04\n",
            "Epoch 48/50\n",
            "113/113 [==============================] - 2s 14ms/step - loss: 1.1657e-05 - val_loss: 3.3545e-04\n",
            "Epoch 49/50\n",
            "113/113 [==============================] - 2s 14ms/step - loss: 1.1308e-05 - val_loss: 4.8469e-04\n",
            "Epoch 50/50\n",
            "113/113 [==============================] - 2s 14ms/step - loss: 1.0478e-05 - val_loss: 8.3991e-04\n"
          ]
        }
      ]
    },
    {
      "cell_type": "code",
      "source": [
        "plt.plot(history_vanilla.history['loss'],color='blue')\n",
        "plt.plot(history_vanilla.history['val_loss'],color='orange')\n",
        "plt.title('vanilla lstm loss')\n",
        "plt.ylabel('loss')\n",
        "plt.xlabel('epoch')\n",
        "plt.legend([\"loss\",\"validation loss\"], loc =\"upper left\")\n",
        "# plt.legend(['accuracy'])"
      ],
      "metadata": {
        "colab": {
          "base_uri": "https://localhost:8080/",
          "height": 313
        },
        "id": "VrLHWHAbHUbC",
        "outputId": "ee12ed91-a6d5-4577-8064-c4856643b7ac"
      },
      "execution_count": 212,
      "outputs": [
        {
          "output_type": "execute_result",
          "data": {
            "text/plain": [
              "<matplotlib.legend.Legend at 0x7f5b0d74aed0>"
            ]
          },
          "metadata": {},
          "execution_count": 212
        },
        {
          "output_type": "display_data",
          "data": {
            "text/plain": [
              "<Figure size 432x288 with 1 Axes>"
            ],
            "image/png": "[encoded data removed]"
          },
          "metadata": {
            "needs_background": "light"
          }
        }
      ]
    },
    {
      "cell_type": "code",
      "source": [
        "train_predict_sensex=model_vanilla.predict(X_train_sensex)\n",
        "test_predict_sensex=model_vanilla.predict(X_test_sensex)\n",
        "train_predict_sensex=scaler.inverse_transform(train_predict_sensex)\n",
        "test_predict_sensex=scaler.inverse_transform(test_predict_sensex)\n",
        "\n",
        "import math\n",
        "from sklearn.metrics import mean_squared_error,mean_absolute_percentage_error\n",
        "rmse_vanilla = math.sqrt(mean_squared_error(y_train_sensex,train_predict_sensex))\n",
        "mape_vanilla = mean_absolute_percentage_error(ytest_sensex,test_predict_sensex)\n",
        "accuracy_vanilla = 100 - mape_vanilla\n",
        "print(\"Train MSE:-\")\n",
        "print(math.sqrt(mean_squared_error(y_train_sensex,train_predict_sensex)))\n",
        "#print(np.sqrt(np.mean(np.square(((y_train_sensex-train_predict_sensex) / y_train_sensex)), axis=0)))\n",
        "print(\"Test MSE:-\")\n",
        "print(math.sqrt(mean_squared_error(ytest_sensex,test_predict_sensex)))\n",
        "print(\"MAPE:- \")\n",
        "print(mean_absolute_percentage_error(ytest_sensex,test_predict_sensex))"
      ],
      "metadata": {
        "colab": {
          "base_uri": "https://localhost:8080/"
        },
        "id": "0CwzYlvYCrGg",
        "outputId": "ed4e96b9-fcb1-41e0-973a-b0aa185a01cb"
      },
      "execution_count": 241,
      "outputs": [
        {
          "output_type": "stream",
          "name": "stdout",
          "text": [
            "Train MSE:-\n",
            "5.885800762087282\n",
            "Test MSE:-\n",
            "16.096868630201946\n",
            "MAPE:- \n",
            "24.988094467914625\n"
          ]
        }
      ]
    },
    {
      "cell_type": "markdown",
      "source": [
        "# **BI DIRECTIONAL LSTM**"
      ],
      "metadata": {
        "id": "FDZYBw12oOKj"
      }
    },
    {
      "cell_type": "code",
      "source": [
        "# BiDirectional_LSTM\n",
        "model_bi_lstm = Sequential()\n",
        "model_bi_lstm.add(Bidirectional(LSTM(30,return_sequences=True), input_shape=(time_step, 1)))\n",
        "model_bi_lstm.add(Dropout(0.3))\n",
        "model_bi_lstm.add(Bidirectional(LSTM(30,return_sequences=True)))\n",
        "model_bi_lstm.add(Dropout(0.3))\n",
        "model_bi_lstm.add(Bidirectional(LSTM(30)))\n",
        "model_bi_lstm.add(Dropout(0.3))\n",
        "model_bi_lstm.add(Dense(1, activation='sigmoid'))\n",
        "model_bi_lstm.compile(loss='mean_squared_error',optimizer='adam')\n",
        "model_bi_lstm.summary()\n",
        "# model.compile(loss='binary_crossentropy', optimizer='adam', metrics=['accuracy'])\n",
        "# train LSTM"
      ],
      "metadata": {
        "colab": {
          "base_uri": "https://localhost:8080/"
        },
        "id": "LyXzfqDSgtRi",
        "outputId": "8296b54b-057a-4fed-e1f1-5c0674fa4d2f"
      },
      "execution_count": 214,
      "outputs": [
        {
          "output_type": "stream",
          "name": "stdout",
          "text": [
            "Model: \"sequential_27\"\n",
            "_________________________________________________________________\n",
            " Layer (type)                Output Shape              Param #   \n",
            "=================================================================\n",
            " bidirectional_38 (Bidirecti  (None, 10, 60)           7680      \n",
            " onal)                                                           \n",
            "                                                                 \n",
            " dropout_22 (Dropout)        (None, 10, 60)            0         \n",
            "                                                                 \n",
            " bidirectional_39 (Bidirecti  (None, 10, 60)           21840     \n",
            " onal)                                                           \n",
            "                                                                 \n",
            " dropout_23 (Dropout)        (None, 10, 60)            0         \n",
            "                                                                 \n",
            " bidirectional_40 (Bidirecti  (None, 60)               21840     \n",
            " onal)                                                           \n",
            "                                                                 \n",
            " dropout_24 (Dropout)        (None, 60)                0         \n",
            "                                                                 \n",
            " dense_27 (Dense)            (None, 1)                 61        \n",
            "                                                                 \n",
            "=================================================================\n",
            "Total params: 51,421\n",
            "Trainable params: 51,421\n",
            "Non-trainable params: 0\n",
            "_________________________________________________________________\n"
          ]
        }
      ]
    },
    {
      "cell_type": "code",
      "source": [
        "history_bi_lstm = model_bi_lstm.fit(X_train_sensex, y_train_sensex,batch_size=64,epochs=ep_bi_lstm,validation_data=[X_test_sensex, ytest_sensex],verbose=1)"
      ],
      "metadata": {
        "colab": {
          "base_uri": "https://localhost:8080/"
        },
        "id": "Uo2uD_eVB8u1",
        "outputId": "8cd0a032-302b-4637-c8dc-f1eef24aa02f"
      },
      "execution_count": 215,
      "outputs": [
        {
          "output_type": "stream",
          "name": "stdout",
          "text": [
            "Epoch 1/50\n",
            "113/113 [==============================] - 17s 63ms/step - loss: 0.0238 - val_loss: 0.0095\n",
            "Epoch 2/50\n",
            "113/113 [==============================] - 4s 33ms/step - loss: 6.2913e-04 - val_loss: 0.0319\n",
            "Epoch 3/50\n",
            "113/113 [==============================] - 4s 33ms/step - loss: 5.0574e-04 - val_loss: 0.0279\n",
            "Epoch 4/50\n",
            "113/113 [==============================] - 4s 33ms/step - loss: 4.5201e-04 - val_loss: 0.0246\n",
            "Epoch 5/50\n",
            "113/113 [==============================] - 4s 34ms/step - loss: 3.9215e-04 - val_loss: 0.0223\n",
            "Epoch 6/50\n",
            "113/113 [==============================] - 4s 33ms/step - loss: 3.7159e-04 - val_loss: 0.0187\n",
            "Epoch 7/50\n",
            "113/113 [==============================] - 4s 32ms/step - loss: 3.4302e-04 - val_loss: 0.0153\n",
            "Epoch 8/50\n",
            "113/113 [==============================] - 4s 32ms/step - loss: 3.0491e-04 - val_loss: 0.0113\n",
            "Epoch 9/50\n",
            "113/113 [==============================] - 4s 32ms/step - loss: 2.9073e-04 - val_loss: 0.0084\n",
            "Epoch 10/50\n",
            "113/113 [==============================] - 4s 33ms/step - loss: 2.7963e-04 - val_loss: 0.0083\n",
            "Epoch 11/50\n",
            "113/113 [==============================] - 4s 33ms/step - loss: 2.6754e-04 - val_loss: 0.0092\n",
            "Epoch 12/50\n",
            "113/113 [==============================] - 4s 32ms/step - loss: 2.6396e-04 - val_loss: 0.0101\n",
            "Epoch 13/50\n",
            "113/113 [==============================] - 4s 33ms/step - loss: 2.5751e-04 - val_loss: 0.0089\n",
            "Epoch 14/50\n",
            "113/113 [==============================] - 4s 32ms/step - loss: 2.5442e-04 - val_loss: 0.0108\n",
            "Epoch 15/50\n",
            "113/113 [==============================] - 4s 32ms/step - loss: 2.4259e-04 - val_loss: 0.0106\n",
            "Epoch 16/50\n",
            "113/113 [==============================] - 4s 32ms/step - loss: 2.3966e-04 - val_loss: 0.0102\n",
            "Epoch 17/50\n",
            "113/113 [==============================] - 4s 33ms/step - loss: 2.3899e-04 - val_loss: 0.0120\n",
            "Epoch 18/50\n",
            "113/113 [==============================] - 4s 32ms/step - loss: 2.3066e-04 - val_loss: 0.0109\n",
            "Epoch 19/50\n",
            "113/113 [==============================] - 4s 33ms/step - loss: 2.2191e-04 - val_loss: 0.0128\n",
            "Epoch 20/50\n",
            "113/113 [==============================] - 4s 33ms/step - loss: 2.3039e-04 - val_loss: 0.0101\n",
            "Epoch 21/50\n",
            "113/113 [==============================] - 4s 33ms/step - loss: 2.2239e-04 - val_loss: 0.0113\n",
            "Epoch 22/50\n",
            "113/113 [==============================] - 4s 32ms/step - loss: 2.1253e-04 - val_loss: 0.0122\n",
            "Epoch 23/50\n",
            "113/113 [==============================] - 4s 33ms/step - loss: 2.2868e-04 - val_loss: 0.0129\n",
            "Epoch 24/50\n",
            "113/113 [==============================] - 4s 33ms/step - loss: 2.1243e-04 - val_loss: 0.0105\n",
            "Epoch 25/50\n",
            "113/113 [==============================] - 4s 33ms/step - loss: 2.0451e-04 - val_loss: 0.0120\n",
            "Epoch 26/50\n",
            "113/113 [==============================] - 4s 33ms/step - loss: 1.9505e-04 - val_loss: 0.0123\n",
            "Epoch 27/50\n",
            "113/113 [==============================] - 4s 33ms/step - loss: 2.0194e-04 - val_loss: 0.0117\n",
            "Epoch 28/50\n",
            "113/113 [==============================] - 4s 33ms/step - loss: 1.9193e-04 - val_loss: 0.0135\n",
            "Epoch 29/50\n",
            "113/113 [==============================] - 4s 32ms/step - loss: 1.9322e-04 - val_loss: 0.0133\n",
            "Epoch 30/50\n",
            "113/113 [==============================] - 4s 32ms/step - loss: 1.9771e-04 - val_loss: 0.0114\n",
            "Epoch 31/50\n",
            "113/113 [==============================] - 4s 33ms/step - loss: 1.7982e-04 - val_loss: 0.0106\n",
            "Epoch 32/50\n",
            "113/113 [==============================] - 4s 32ms/step - loss: 1.9446e-04 - val_loss: 0.0119\n",
            "Epoch 33/50\n",
            "113/113 [==============================] - 4s 33ms/step - loss: 1.8199e-04 - val_loss: 0.0116\n",
            "Epoch 34/50\n",
            "113/113 [==============================] - 4s 33ms/step - loss: 1.8261e-04 - val_loss: 0.0101\n",
            "Epoch 35/50\n",
            "113/113 [==============================] - 4s 33ms/step - loss: 1.8095e-04 - val_loss: 0.0113\n",
            "Epoch 36/50\n",
            "113/113 [==============================] - 4s 33ms/step - loss: 1.7020e-04 - val_loss: 0.0124\n",
            "Epoch 37/50\n",
            "113/113 [==============================] - 4s 33ms/step - loss: 1.6745e-04 - val_loss: 0.0122\n",
            "Epoch 38/50\n",
            "113/113 [==============================] - 4s 33ms/step - loss: 1.7099e-04 - val_loss: 0.0126\n",
            "Epoch 39/50\n",
            "113/113 [==============================] - 4s 33ms/step - loss: 1.6252e-04 - val_loss: 0.0114\n",
            "Epoch 40/50\n",
            "113/113 [==============================] - 4s 33ms/step - loss: 1.7165e-04 - val_loss: 0.0114\n",
            "Epoch 41/50\n",
            "113/113 [==============================] - 4s 33ms/step - loss: 1.6589e-04 - val_loss: 0.0108\n",
            "Epoch 42/50\n",
            "113/113 [==============================] - 4s 33ms/step - loss: 1.6609e-04 - val_loss: 0.0123\n",
            "Epoch 43/50\n",
            "113/113 [==============================] - 4s 33ms/step - loss: 1.5261e-04 - val_loss: 0.0119\n",
            "Epoch 44/50\n",
            "113/113 [==============================] - 4s 33ms/step - loss: 1.5078e-04 - val_loss: 0.0107\n",
            "Epoch 45/50\n",
            "113/113 [==============================] - 4s 33ms/step - loss: 1.5453e-04 - val_loss: 0.0115\n",
            "Epoch 46/50\n",
            "113/113 [==============================] - 4s 34ms/step - loss: 1.4645e-04 - val_loss: 0.0115\n",
            "Epoch 47/50\n",
            "113/113 [==============================] - 4s 33ms/step - loss: 1.4219e-04 - val_loss: 0.0122\n",
            "Epoch 48/50\n",
            "113/113 [==============================] - 4s 34ms/step - loss: 1.4106e-04 - val_loss: 0.0116\n",
            "Epoch 49/50\n",
            "113/113 [==============================] - 4s 34ms/step - loss: 1.4089e-04 - val_loss: 0.0120\n",
            "Epoch 50/50\n",
            "113/113 [==============================] - 4s 33ms/step - loss: 1.3606e-04 - val_loss: 0.0126\n"
          ]
        }
      ]
    },
    {
      "cell_type": "code",
      "source": [
        "plt.plot(history_bi_lstm.history['loss'],color='blue')\n",
        "plt.plot(history_bi_lstm.history['val_loss'],color='orange')\n",
        "plt.title('Bi Directional lstm loss')\n",
        "plt.ylabel('loss')\n",
        "plt.xlabel('epoch')\n",
        "plt.legend([\"loss\",\"validation loss\"], loc =\"upper left\")\n",
        "# plt.legend(['accuracy'])"
      ],
      "metadata": {
        "colab": {
          "base_uri": "https://localhost:8080/",
          "height": 313
        },
        "id": "QWKwgVC0OiGG",
        "outputId": "157e2939-5f28-423c-8d77-aa59a9b1406d"
      },
      "execution_count": 216,
      "outputs": [
        {
          "output_type": "execute_result",
          "data": {
            "text/plain": [
              "<matplotlib.legend.Legend at 0x7f5b04438190>"
            ]
          },
          "metadata": {},
          "execution_count": 216
        },
        {
          "output_type": "display_data",
          "data": {
            "text/plain": [
              "<Figure size 432x288 with 1 Axes>"
            ],
            "image/png": "[encoded data removed]"
          },
          "metadata": {
            "needs_background": "light"
          }
        }
      ]
    },
    {
      "cell_type": "code",
      "source": [
        "train_predict_sensex=model_bi_lstm.predict(X_train_sensex)\n",
        "test_predict_sensex=model_bi_lstm.predict(X_test_sensex)\n",
        "train_predict_sensex=scaler.inverse_transform(train_predict_sensex)\n",
        "test_predict_sensex=scaler.inverse_transform(test_predict_sensex)\n",
        "\n",
        "import math\n",
        "from sklearn.metrics import mean_squared_error,mean_absolute_percentage_error\n",
        "rmse_bilstm = math.sqrt(mean_squared_error(y_train_sensex,train_predict_sensex))\n",
        "mape_bilstm = mean_absolute_percentage_error(ytest_sensex,test_predict_sensex)\n",
        "accuracy_bilstm = 100 - mape_bilstm\n",
        "print(\"Train MSE:-\")\n",
        "print(math.sqrt(mean_squared_error(y_train_sensex,train_predict_sensex)))\n",
        "#print(np.sqrt(np.mean(np.square(((y_train_sensex-train_predict_sensex) / y_train_sensex)), axis=0)))\n",
        "print(\"Test MSE:-\")\n",
        "print(math.sqrt(mean_squared_error(ytest_sensex,test_predict_sensex)))\n",
        "print(\"MAPE:- \")\n",
        "print(mean_absolute_percentage_error(ytest_sensex,test_predict_sensex))"
      ],
      "metadata": {
        "id": "8T6ZqRckbwSR",
        "colab": {
          "base_uri": "https://localhost:8080/"
        },
        "outputId": "767c75e0-b6ea-4186-a6f5-f8ba5ad1da96"
      },
      "execution_count": 243,
      "outputs": [
        {
          "output_type": "stream",
          "name": "stdout",
          "text": [
            "Train MSE:-\n",
            "5.960014708282663\n",
            "Test MSE:-\n",
            "14.36570219370019\n",
            "MAPE:- \n",
            "22.976173953088466\n"
          ]
        }
      ]
    },
    {
      "cell_type": "markdown",
      "source": [
        "# **STACKED LSTM**"
      ],
      "metadata": {
        "id": "3sRiXXDToVTq"
      }
    },
    {
      "cell_type": "code",
      "execution_count": 218,
      "metadata": {
        "id": "p7cL5HJKivbH",
        "colab": {
          "base_uri": "https://localhost:8080/"
        },
        "outputId": "adae3c48-dd8d-41ce-d14e-41b2fcb9f2aa"
      },
      "outputs": [
        {
          "output_type": "stream",
          "name": "stdout",
          "text": [
            "Model: \"sequential_28\"\n",
            "_________________________________________________________________\n",
            " Layer (type)                Output Shape              Param #   \n",
            "=================================================================\n",
            " lstm_64 (LSTM)              (None, 10, 100)           40800     \n",
            "                                                                 \n",
            " lstm_65 (LSTM)              (None, 10, 50)            30200     \n",
            "                                                                 \n",
            " lstm_66 (LSTM)              (None, 50)                20200     \n",
            "                                                                 \n",
            " dense_28 (Dense)            (None, 1)                 51        \n",
            "                                                                 \n",
            "=================================================================\n",
            "Total params: 91,251\n",
            "Trainable params: 91,251\n",
            "Non-trainable params: 0\n",
            "_________________________________________________________________\n"
          ]
        }
      ],
      "source": [
        "# LSTM_Model\n",
        "model_lstm=Sequential()\n",
        "model_lstm.add(LSTM(100,return_sequences=True,input_shape=(time_step,1)))\n",
        "model_lstm.add(LSTM(50,return_sequences=True))\n",
        "model_lstm.add(LSTM(50))\n",
        "model_lstm.add(Dense(1))\n",
        "model_lstm.compile(loss='mean_squared_error',optimizer='adam')\n",
        "model_lstm.summary()"
      ]
    },
    {
      "cell_type": "code",
      "execution_count": 219,
      "metadata": {
        "id": "8iSIBm0eivbI",
        "colab": {
          "base_uri": "https://localhost:8080/"
        },
        "outputId": "5062870e-087c-4ba4-d5dd-02b39ccff5cb"
      },
      "outputs": [
        {
          "output_type": "stream",
          "name": "stdout",
          "text": [
            "Epoch 1/50\n",
            "113/113 [==============================] - 10s 42ms/step - loss: 0.0026 - val_loss: 3.4233e-04\n",
            "Epoch 2/50\n",
            "113/113 [==============================] - 3s 31ms/step - loss: 3.9887e-05 - val_loss: 9.3735e-04\n",
            "Epoch 3/50\n",
            "113/113 [==============================] - 3s 31ms/step - loss: 4.2372e-05 - val_loss: 0.0013\n",
            "Epoch 4/50\n",
            "113/113 [==============================] - 3s 31ms/step - loss: 4.0441e-05 - val_loss: 0.0014\n",
            "Epoch 5/50\n",
            "113/113 [==============================] - 4s 31ms/step - loss: 4.0498e-05 - val_loss: 7.6984e-04\n",
            "Epoch 6/50\n",
            "113/113 [==============================] - 3s 31ms/step - loss: 4.1174e-05 - val_loss: 0.0011\n",
            "Epoch 7/50\n",
            "113/113 [==============================] - 4s 31ms/step - loss: 4.2914e-05 - val_loss: 0.0010\n",
            "Epoch 8/50\n",
            "113/113 [==============================] - 3s 30ms/step - loss: 4.0663e-05 - val_loss: 9.6851e-04\n",
            "Epoch 9/50\n",
            "113/113 [==============================] - 3s 31ms/step - loss: 3.9937e-05 - val_loss: 6.6085e-04\n",
            "Epoch 10/50\n",
            "113/113 [==============================] - 4s 31ms/step - loss: 3.8878e-05 - val_loss: 5.9304e-04\n",
            "Epoch 11/50\n",
            "113/113 [==============================] - 3s 31ms/step - loss: 4.3089e-05 - val_loss: 0.0012\n",
            "Epoch 12/50\n",
            "113/113 [==============================] - 4s 31ms/step - loss: 4.2902e-05 - val_loss: 0.0013\n",
            "Epoch 13/50\n",
            "113/113 [==============================] - 4s 31ms/step - loss: 4.2864e-05 - val_loss: 8.7665e-04\n",
            "Epoch 14/50\n",
            "113/113 [==============================] - 3s 31ms/step - loss: 4.0572e-05 - val_loss: 6.2600e-04\n",
            "Epoch 15/50\n",
            "113/113 [==============================] - 3s 31ms/step - loss: 3.9846e-05 - val_loss: 0.0011\n",
            "Epoch 16/50\n",
            "113/113 [==============================] - 3s 31ms/step - loss: 4.3667e-05 - val_loss: 4.7837e-04\n",
            "Epoch 17/50\n",
            "113/113 [==============================] - 4s 31ms/step - loss: 3.8779e-05 - val_loss: 5.7696e-04\n",
            "Epoch 18/50\n",
            "113/113 [==============================] - 4s 31ms/step - loss: 4.2355e-05 - val_loss: 7.8650e-04\n",
            "Epoch 19/50\n",
            "113/113 [==============================] - 4s 31ms/step - loss: 4.0642e-05 - val_loss: 0.0013\n",
            "Epoch 20/50\n",
            "113/113 [==============================] - 3s 31ms/step - loss: 3.9821e-05 - val_loss: 6.2344e-04\n",
            "Epoch 21/50\n",
            "113/113 [==============================] - 3s 31ms/step - loss: 4.0500e-05 - val_loss: 3.2465e-04\n",
            "Epoch 22/50\n",
            "113/113 [==============================] - 4s 31ms/step - loss: 4.4079e-05 - val_loss: 6.2994e-04\n",
            "Epoch 23/50\n",
            "113/113 [==============================] - 3s 31ms/step - loss: 3.5487e-05 - val_loss: 7.9851e-04\n",
            "Epoch 24/50\n",
            "113/113 [==============================] - 4s 31ms/step - loss: 3.4345e-05 - val_loss: 2.9295e-04\n",
            "Epoch 25/50\n",
            "113/113 [==============================] - 4s 31ms/step - loss: 3.7341e-05 - val_loss: 7.3842e-04\n",
            "Epoch 26/50\n",
            "113/113 [==============================] - 3s 31ms/step - loss: 3.3169e-05 - val_loss: 4.0374e-04\n",
            "Epoch 27/50\n",
            "113/113 [==============================] - 3s 31ms/step - loss: 3.5284e-05 - val_loss: 4.4515e-04\n",
            "Epoch 28/50\n",
            "113/113 [==============================] - 4s 31ms/step - loss: 3.3970e-05 - val_loss: 2.6829e-04\n",
            "Epoch 29/50\n",
            "113/113 [==============================] - 3s 30ms/step - loss: 3.2887e-05 - val_loss: 6.8141e-04\n",
            "Epoch 30/50\n",
            "113/113 [==============================] - 3s 31ms/step - loss: 3.2456e-05 - val_loss: 3.4393e-04\n",
            "Epoch 31/50\n",
            "113/113 [==============================] - 3s 30ms/step - loss: 2.7130e-05 - val_loss: 8.8512e-04\n",
            "Epoch 32/50\n",
            "113/113 [==============================] - 3s 30ms/step - loss: 3.1234e-05 - val_loss: 7.1651e-04\n",
            "Epoch 33/50\n",
            "113/113 [==============================] - 4s 32ms/step - loss: 3.4253e-05 - val_loss: 3.4628e-04\n",
            "Epoch 34/50\n",
            "113/113 [==============================] - 3s 31ms/step - loss: 2.5470e-05 - val_loss: 2.6821e-04\n",
            "Epoch 35/50\n",
            "113/113 [==============================] - 3s 31ms/step - loss: 2.9722e-05 - val_loss: 5.0079e-04\n",
            "Epoch 36/50\n",
            "113/113 [==============================] - 4s 31ms/step - loss: 2.6013e-05 - val_loss: 2.8428e-04\n",
            "Epoch 37/50\n",
            "113/113 [==============================] - 4s 32ms/step - loss: 2.3922e-05 - val_loss: 8.1069e-04\n",
            "Epoch 38/50\n",
            "113/113 [==============================] - 4s 31ms/step - loss: 2.8776e-05 - val_loss: 1.1868e-04\n",
            "Epoch 39/50\n",
            "113/113 [==============================] - 4s 31ms/step - loss: 2.3515e-05 - val_loss: 4.0549e-04\n",
            "Epoch 40/50\n",
            "113/113 [==============================] - 4s 31ms/step - loss: 2.3548e-05 - val_loss: 1.3229e-04\n",
            "Epoch 41/50\n",
            "113/113 [==============================] - 3s 31ms/step - loss: 2.3174e-05 - val_loss: 8.8016e-05\n",
            "Epoch 42/50\n",
            "113/113 [==============================] - 4s 31ms/step - loss: 2.1045e-05 - val_loss: 9.1764e-05\n",
            "Epoch 43/50\n",
            "113/113 [==============================] - 4s 31ms/step - loss: 2.3376e-05 - val_loss: 5.5458e-04\n",
            "Epoch 44/50\n",
            "113/113 [==============================] - 3s 30ms/step - loss: 2.0024e-05 - val_loss: 3.3815e-04\n",
            "Epoch 45/50\n",
            "113/113 [==============================] - 4s 31ms/step - loss: 2.0442e-05 - val_loss: 5.3872e-04\n",
            "Epoch 46/50\n",
            "113/113 [==============================] - 3s 31ms/step - loss: 2.2453e-05 - val_loss: 2.6767e-04\n",
            "Epoch 47/50\n",
            "113/113 [==============================] - 3s 31ms/step - loss: 2.0933e-05 - val_loss: 6.4385e-05\n",
            "Epoch 48/50\n",
            "113/113 [==============================] - 3s 31ms/step - loss: 1.5471e-05 - val_loss: 1.2575e-04\n",
            "Epoch 49/50\n",
            "113/113 [==============================] - 3s 31ms/step - loss: 2.3538e-05 - val_loss: 6.0634e-05\n",
            "Epoch 50/50\n",
            "113/113 [==============================] - 4s 31ms/step - loss: 1.5528e-05 - val_loss: 1.5387e-04\n"
          ]
        }
      ],
      "source": [
        "history_lstm= model_lstm.fit(X_train_sensex,y_train_sensex,validation_data=(X_test_sensex,ytest_sensex),epochs=ep_lstm,batch_size=64,verbose=1)"
      ]
    },
    {
      "cell_type": "code",
      "source": [
        "plt.plot(history_lstm.history['loss'],color='blue')\n",
        "plt.plot(history_lstm.history['val_loss'],color='orange')\n",
        "plt.title('lstm loss')\n",
        "plt.ylabel('loss')\n",
        "plt.xlabel('epoch')\n",
        "plt.legend([\"loss\",\"validation loss\"], loc =\"upper left\")\n",
        "# plt.legend(['accuracy'])"
      ],
      "metadata": {
        "colab": {
          "base_uri": "https://localhost:8080/",
          "height": 313
        },
        "id": "jHlWk11ZMQv9",
        "outputId": "fe4ace0f-e0ed-409f-e655-088d328384c0"
      },
      "execution_count": 220,
      "outputs": [
        {
          "output_type": "execute_result",
          "data": {
            "text/plain": [
              "<matplotlib.legend.Legend at 0x7f5b0e8da3d0>"
            ]
          },
          "metadata": {},
          "execution_count": 220
        },
        {
          "output_type": "display_data",
          "data": {
            "text/plain": [
              "<Figure size 432x288 with 1 Axes>"
            ],
            "image/png": "[encoded data removed]"
          },
          "metadata": {
            "needs_background": "light"
          }
        }
      ]
    },
    {
      "cell_type": "code",
      "execution_count": 244,
      "metadata": {
        "colab": {
          "base_uri": "https://localhost:8080/"
        },
        "id": "Aer78QHdivbI",
        "outputId": "31e50dcb-ee1b-4337-85e4-2874e13e6983"
      },
      "outputs": [
        {
          "output_type": "stream",
          "name": "stdout",
          "text": [
            "Train MSE:-\n",
            "5.949199961131695\n",
            "Test MSE:-\n",
            "16.298803418538068\n",
            "MAPE:- \n",
            "25.173671673613214\n"
          ]
        }
      ],
      "source": [
        "train_predict_sensex=model_lstm.predict(X_train_sensex)\n",
        "test_predict_sensex=model_lstm.predict(X_test_sensex)\n",
        "train_predict_sensex=scaler.inverse_transform(train_predict_sensex)\n",
        "test_predict_sensex=scaler.inverse_transform(test_predict_sensex)\n",
        "\n",
        "import math\n",
        "from sklearn.metrics import mean_squared_error,mean_absolute_percentage_error\n",
        "rmse_lstm = math.sqrt(mean_squared_error(y_train_sensex,train_predict_sensex))\n",
        "mape_lstm = mean_absolute_percentage_error(ytest_sensex,test_predict_sensex)\n",
        "accuracy_lstm = 100 - mape_lstm\n",
        "print(\"Train MSE:-\")\n",
        "print(math.sqrt(mean_squared_error(y_train_sensex,train_predict_sensex)))\n",
        "#print(np.sqrt(np.mean(np.square(((y_train_sensex-train_predict_sensex) / y_train_sensex)), axis=0)))\n",
        "print(\"Test MSE:-\")\n",
        "print(math.sqrt(mean_squared_error(ytest_sensex,test_predict_sensex)))\n",
        "print(\"MAPE:- \")\n",
        "print(mean_absolute_percentage_error(ytest_sensex,test_predict_sensex))"
      ]
    },
    {
      "cell_type": "code",
      "source": [
        "model_lstm.fit(X_train_nifty,y_train_nifty,validation_data=(X_test_nifty,ytest_nifty),epochs=ep_lstm,batch_size=64,verbose=1)"
      ],
      "metadata": {
        "id": "5d_UPGIzTPc3",
        "colab": {
          "base_uri": "https://localhost:8080/"
        },
        "outputId": "82b991e7-7ec0-4217-a9e8-51671149e5a1"
      },
      "execution_count": 222,
      "outputs": [
        {
          "output_type": "stream",
          "name": "stdout",
          "text": [
            "Epoch 1/50\n",
            "44/44 [==============================] - 1s 33ms/step - loss: 5.5582e-05 - val_loss: 2.2659e-04\n",
            "Epoch 2/50\n",
            "44/44 [==============================] - 2s 34ms/step - loss: 5.3981e-05 - val_loss: 1.7899e-04\n",
            "Epoch 3/50\n",
            "44/44 [==============================] - 1s 31ms/step - loss: 4.7110e-05 - val_loss: 1.5533e-04\n",
            "Epoch 4/50\n",
            "44/44 [==============================] - 1s 31ms/step - loss: 5.7122e-05 - val_loss: 3.8777e-04\n",
            "Epoch 5/50\n",
            "44/44 [==============================] - 1s 31ms/step - loss: 5.7190e-05 - val_loss: 1.3926e-04\n",
            "Epoch 6/50\n",
            "44/44 [==============================] - 1s 32ms/step - loss: 4.2035e-05 - val_loss: 1.3587e-04\n",
            "Epoch 7/50\n",
            "44/44 [==============================] - 1s 31ms/step - loss: 4.5500e-05 - val_loss: 1.6278e-04\n",
            "Epoch 8/50\n",
            "44/44 [==============================] - 1s 31ms/step - loss: 4.2023e-05 - val_loss: 1.3049e-04\n",
            "Epoch 9/50\n",
            "44/44 [==============================] - 1s 31ms/step - loss: 3.8960e-05 - val_loss: 1.3084e-04\n",
            "Epoch 10/50\n",
            "44/44 [==============================] - 1s 31ms/step - loss: 3.9625e-05 - val_loss: 1.5857e-04\n",
            "Epoch 11/50\n",
            "44/44 [==============================] - 1s 32ms/step - loss: 3.7039e-05 - val_loss: 1.3327e-04\n",
            "Epoch 12/50\n",
            "44/44 [==============================] - 1s 31ms/step - loss: 3.5165e-05 - val_loss: 1.4442e-04\n",
            "Epoch 13/50\n",
            "44/44 [==============================] - 1s 31ms/step - loss: 3.6780e-05 - val_loss: 1.2870e-04\n",
            "Epoch 14/50\n",
            "44/44 [==============================] - 1s 32ms/step - loss: 3.4421e-05 - val_loss: 2.4156e-04\n",
            "Epoch 15/50\n",
            "44/44 [==============================] - 1s 32ms/step - loss: 3.9002e-05 - val_loss: 1.2779e-04\n",
            "Epoch 16/50\n",
            "44/44 [==============================] - 1s 32ms/step - loss: 3.1798e-05 - val_loss: 2.1772e-04\n",
            "Epoch 17/50\n",
            "44/44 [==============================] - 1s 32ms/step - loss: 4.0703e-05 - val_loss: 2.5756e-04\n",
            "Epoch 18/50\n",
            "44/44 [==============================] - 1s 31ms/step - loss: 3.5639e-05 - val_loss: 1.1666e-04\n",
            "Epoch 19/50\n",
            "44/44 [==============================] - 1s 32ms/step - loss: 2.9825e-05 - val_loss: 1.3392e-04\n",
            "Epoch 20/50\n",
            "44/44 [==============================] - 1s 31ms/step - loss: 3.0790e-05 - val_loss: 1.1299e-04\n",
            "Epoch 21/50\n",
            "44/44 [==============================] - 1s 32ms/step - loss: 3.3068e-05 - val_loss: 1.3129e-04\n",
            "Epoch 22/50\n",
            "44/44 [==============================] - 1s 33ms/step - loss: 3.4428e-05 - val_loss: 1.8327e-04\n",
            "Epoch 23/50\n",
            "44/44 [==============================] - 1s 32ms/step - loss: 3.2378e-05 - val_loss: 1.2099e-04\n",
            "Epoch 24/50\n",
            "44/44 [==============================] - 1s 31ms/step - loss: 2.9244e-05 - val_loss: 1.4903e-04\n",
            "Epoch 25/50\n",
            "44/44 [==============================] - 1s 31ms/step - loss: 2.9686e-05 - val_loss: 1.4825e-04\n",
            "Epoch 26/50\n",
            "44/44 [==============================] - 1s 32ms/step - loss: 2.6998e-05 - val_loss: 1.5111e-04\n",
            "Epoch 27/50\n",
            "44/44 [==============================] - 1s 32ms/step - loss: 2.6386e-05 - val_loss: 1.0899e-04\n",
            "Epoch 28/50\n",
            "44/44 [==============================] - 1s 32ms/step - loss: 2.9821e-05 - val_loss: 1.0804e-04\n",
            "Epoch 29/50\n",
            "44/44 [==============================] - 1s 32ms/step - loss: 2.6785e-05 - val_loss: 1.2275e-04\n",
            "Epoch 30/50\n",
            "44/44 [==============================] - 1s 32ms/step - loss: 3.2987e-05 - val_loss: 1.1237e-04\n",
            "Epoch 31/50\n",
            "44/44 [==============================] - 1s 31ms/step - loss: 3.3463e-05 - val_loss: 1.1810e-04\n",
            "Epoch 32/50\n",
            "44/44 [==============================] - 1s 31ms/step - loss: 2.6798e-05 - val_loss: 1.7627e-04\n",
            "Epoch 33/50\n",
            "44/44 [==============================] - 1s 31ms/step - loss: 2.9470e-05 - val_loss: 1.9130e-04\n",
            "Epoch 34/50\n",
            "44/44 [==============================] - 1s 31ms/step - loss: 2.9874e-05 - val_loss: 1.1063e-04\n",
            "Epoch 35/50\n",
            "44/44 [==============================] - 1s 32ms/step - loss: 2.5708e-05 - val_loss: 1.5065e-04\n",
            "Epoch 36/50\n",
            "44/44 [==============================] - 1s 31ms/step - loss: 3.4025e-05 - val_loss: 1.1404e-04\n",
            "Epoch 37/50\n",
            "44/44 [==============================] - 1s 33ms/step - loss: 2.6601e-05 - val_loss: 1.1146e-04\n",
            "Epoch 38/50\n",
            "44/44 [==============================] - 1s 31ms/step - loss: 2.7559e-05 - val_loss: 1.6015e-04\n",
            "Epoch 39/50\n",
            "44/44 [==============================] - 1s 32ms/step - loss: 2.5880e-05 - val_loss: 1.4687e-04\n",
            "Epoch 40/50\n",
            "44/44 [==============================] - 1s 32ms/step - loss: 2.8655e-05 - val_loss: 1.6390e-04\n",
            "Epoch 41/50\n",
            "44/44 [==============================] - 1s 32ms/step - loss: 2.7335e-05 - val_loss: 1.1382e-04\n",
            "Epoch 42/50\n",
            "44/44 [==============================] - 1s 32ms/step - loss: 2.8027e-05 - val_loss: 2.1186e-04\n",
            "Epoch 43/50\n",
            "44/44 [==============================] - 1s 32ms/step - loss: 2.8075e-05 - val_loss: 1.4442e-04\n",
            "Epoch 44/50\n",
            "44/44 [==============================] - 1s 32ms/step - loss: 2.9163e-05 - val_loss: 1.2200e-04\n",
            "Epoch 45/50\n",
            "44/44 [==============================] - 1s 32ms/step - loss: 2.6456e-05 - val_loss: 1.1189e-04\n",
            "Epoch 46/50\n",
            "44/44 [==============================] - 1s 32ms/step - loss: 2.5521e-05 - val_loss: 1.3029e-04\n",
            "Epoch 47/50\n",
            "44/44 [==============================] - 1s 32ms/step - loss: 2.6783e-05 - val_loss: 1.1728e-04\n",
            "Epoch 48/50\n",
            "44/44 [==============================] - 1s 31ms/step - loss: 2.6495e-05 - val_loss: 2.7133e-04\n",
            "Epoch 49/50\n",
            "44/44 [==============================] - 1s 32ms/step - loss: 3.2515e-05 - val_loss: 1.1549e-04\n",
            "Epoch 50/50\n",
            "44/44 [==============================] - 1s 32ms/step - loss: 2.7692e-05 - val_loss: 1.1774e-04\n"
          ]
        },
        {
          "output_type": "execute_result",
          "data": {
            "text/plain": [
              "<keras.callbacks.History at 0x7f5b0902cfd0>"
            ]
          },
          "metadata": {},
          "execution_count": 222
        }
      ]
    },
    {
      "cell_type": "code",
      "execution_count": 223,
      "metadata": {
        "colab": {
          "base_uri": "https://localhost:8080/"
        },
        "id": "UU29SciJivbI",
        "outputId": "f53071b3-399c-459d-8d0d-682466feeb3d"
      },
      "outputs": [
        {
          "output_type": "stream",
          "name": "stdout",
          "text": [
            "Train MSE:-\n",
            "8.059901439457628\n",
            "Test MSE:-\n",
            "17.605863168925815\n"
          ]
        }
      ],
      "source": [
        "train_predict_nifty=model_lstm.predict(X_train_nifty)\n",
        "test_predict_nifty=model_lstm.predict(X_test_nifty)\n",
        "train_predict_nifty=scaler.inverse_transform(train_predict_nifty)\n",
        "test_predict_nifty=scaler.inverse_transform(test_predict_nifty)\n",
        "\n",
        "print(\"Train MSE:-\")\n",
        "print(math.sqrt(mean_squared_error(y_train_nifty,train_predict_nifty)))\n",
        "print(\"Test MSE:-\")\n",
        "print(math.sqrt(mean_squared_error(ytest_nifty,test_predict_nifty)))"
      ]
    },
    {
      "cell_type": "code",
      "source": [
        "model_lstm.fit(X_train_tata,y_train_tata,validation_data=(X_test_tata,ytest_tata),epochs=ep_lstm,batch_size=64,verbose=1)"
      ],
      "metadata": {
        "id": "6m7qulE9UrFZ",
        "colab": {
          "base_uri": "https://localhost:8080/"
        },
        "outputId": "93d20ccb-271c-4ff2-8783-819cfa6feff1"
      },
      "execution_count": 224,
      "outputs": [
        {
          "output_type": "stream",
          "name": "stdout",
          "text": [
            "Epoch 1/50\n",
            "55/55 [==============================] - 2s 33ms/step - loss: 4.1666e-04 - val_loss: 1.4082e-04\n",
            "Epoch 2/50\n",
            "55/55 [==============================] - 2s 31ms/step - loss: 1.8909e-04 - val_loss: 1.2445e-04\n",
            "Epoch 3/50\n",
            "55/55 [==============================] - 2s 31ms/step - loss: 1.6621e-04 - val_loss: 1.3402e-04\n",
            "Epoch 4/50\n",
            "55/55 [==============================] - 2s 31ms/step - loss: 1.7739e-04 - val_loss: 1.2831e-04\n",
            "Epoch 5/50\n",
            "55/55 [==============================] - 2s 31ms/step - loss: 1.5928e-04 - val_loss: 1.2146e-04\n",
            "Epoch 6/50\n",
            "55/55 [==============================] - 2s 31ms/step - loss: 1.6505e-04 - val_loss: 1.6481e-04\n",
            "Epoch 7/50\n",
            "55/55 [==============================] - 2s 33ms/step - loss: 1.6265e-04 - val_loss: 1.2211e-04\n",
            "Epoch 8/50\n",
            "55/55 [==============================] - 2s 32ms/step - loss: 1.6054e-04 - val_loss: 1.2293e-04\n",
            "Epoch 9/50\n",
            "55/55 [==============================] - 2s 31ms/step - loss: 1.4957e-04 - val_loss: 1.3116e-04\n",
            "Epoch 10/50\n",
            "55/55 [==============================] - 2s 31ms/step - loss: 1.5825e-04 - val_loss: 1.3276e-04\n",
            "Epoch 11/50\n",
            "55/55 [==============================] - 2s 32ms/step - loss: 1.7300e-04 - val_loss: 1.4126e-04\n",
            "Epoch 12/50\n",
            "55/55 [==============================] - 2s 32ms/step - loss: 1.5898e-04 - val_loss: 1.5317e-04\n",
            "Epoch 13/50\n",
            "55/55 [==============================] - 2s 32ms/step - loss: 1.8815e-04 - val_loss: 1.3151e-04\n",
            "Epoch 14/50\n",
            "55/55 [==============================] - 2s 31ms/step - loss: 1.6764e-04 - val_loss: 1.2314e-04\n",
            "Epoch 15/50\n",
            "55/55 [==============================] - 2s 31ms/step - loss: 1.5954e-04 - val_loss: 1.2496e-04\n",
            "Epoch 16/50\n",
            "55/55 [==============================] - 2s 31ms/step - loss: 1.6524e-04 - val_loss: 1.2658e-04\n",
            "Epoch 17/50\n",
            "55/55 [==============================] - 2s 31ms/step - loss: 1.6088e-04 - val_loss: 1.3416e-04\n",
            "Epoch 18/50\n",
            "55/55 [==============================] - 2s 32ms/step - loss: 1.6083e-04 - val_loss: 1.2595e-04\n",
            "Epoch 19/50\n",
            "55/55 [==============================] - 2s 31ms/step - loss: 1.9505e-04 - val_loss: 1.2202e-04\n",
            "Epoch 20/50\n",
            "55/55 [==============================] - 2s 32ms/step - loss: 1.8831e-04 - val_loss: 1.2416e-04\n",
            "Epoch 21/50\n",
            "55/55 [==============================] - 2s 32ms/step - loss: 1.6811e-04 - val_loss: 1.2193e-04\n",
            "Epoch 22/50\n",
            "55/55 [==============================] - 2s 31ms/step - loss: 1.5079e-04 - val_loss: 1.2074e-04\n",
            "Epoch 23/50\n",
            "55/55 [==============================] - 2s 31ms/step - loss: 1.4849e-04 - val_loss: 1.2450e-04\n",
            "Epoch 24/50\n",
            "55/55 [==============================] - 2s 31ms/step - loss: 1.5206e-04 - val_loss: 1.3683e-04\n",
            "Epoch 25/50\n",
            "55/55 [==============================] - 2s 31ms/step - loss: 1.5171e-04 - val_loss: 1.1974e-04\n",
            "Epoch 26/50\n",
            "55/55 [==============================] - 2s 31ms/step - loss: 1.5097e-04 - val_loss: 1.2345e-04\n",
            "Epoch 27/50\n",
            "55/55 [==============================] - 2s 31ms/step - loss: 1.5677e-04 - val_loss: 1.4012e-04\n",
            "Epoch 28/50\n",
            "55/55 [==============================] - 2s 31ms/step - loss: 1.5785e-04 - val_loss: 1.2245e-04\n",
            "Epoch 29/50\n",
            "55/55 [==============================] - 2s 32ms/step - loss: 1.5144e-04 - val_loss: 2.2007e-04\n",
            "Epoch 30/50\n",
            "55/55 [==============================] - 2s 32ms/step - loss: 1.9138e-04 - val_loss: 1.4425e-04\n",
            "Epoch 31/50\n",
            "55/55 [==============================] - 2s 31ms/step - loss: 1.6674e-04 - val_loss: 1.1846e-04\n",
            "Epoch 32/50\n",
            "55/55 [==============================] - 2s 31ms/step - loss: 1.4897e-04 - val_loss: 1.2348e-04\n",
            "Epoch 33/50\n",
            "55/55 [==============================] - 2s 32ms/step - loss: 1.5477e-04 - val_loss: 1.2670e-04\n",
            "Epoch 34/50\n",
            "55/55 [==============================] - 2s 31ms/step - loss: 1.6586e-04 - val_loss: 1.2019e-04\n",
            "Epoch 35/50\n",
            "55/55 [==============================] - 2s 31ms/step - loss: 1.6197e-04 - val_loss: 1.2067e-04\n",
            "Epoch 36/50\n",
            "55/55 [==============================] - 2s 30ms/step - loss: 1.7005e-04 - val_loss: 1.5568e-04\n",
            "Epoch 37/50\n",
            "55/55 [==============================] - 2s 31ms/step - loss: 1.5543e-04 - val_loss: 1.4715e-04\n",
            "Epoch 38/50\n",
            "55/55 [==============================] - 2s 32ms/step - loss: 1.6244e-04 - val_loss: 1.2210e-04\n",
            "Epoch 39/50\n",
            "55/55 [==============================] - 2s 31ms/step - loss: 1.5020e-04 - val_loss: 1.2506e-04\n",
            "Epoch 40/50\n",
            "55/55 [==============================] - 2s 31ms/step - loss: 1.5958e-04 - val_loss: 1.2591e-04\n",
            "Epoch 41/50\n",
            "55/55 [==============================] - 2s 31ms/step - loss: 1.7274e-04 - val_loss: 1.4745e-04\n",
            "Epoch 42/50\n",
            "55/55 [==============================] - 2s 31ms/step - loss: 1.5884e-04 - val_loss: 1.2678e-04\n",
            "Epoch 43/50\n",
            "55/55 [==============================] - 2s 31ms/step - loss: 1.7007e-04 - val_loss: 1.1833e-04\n",
            "Epoch 44/50\n",
            "55/55 [==============================] - 2s 32ms/step - loss: 1.4718e-04 - val_loss: 1.1877e-04\n",
            "Epoch 45/50\n",
            "55/55 [==============================] - 2s 31ms/step - loss: 1.5970e-04 - val_loss: 1.4623e-04\n",
            "Epoch 46/50\n",
            "55/55 [==============================] - 2s 31ms/step - loss: 1.5316e-04 - val_loss: 1.2388e-04\n",
            "Epoch 47/50\n",
            "55/55 [==============================] - 2s 31ms/step - loss: 1.6441e-04 - val_loss: 1.2430e-04\n",
            "Epoch 48/50\n",
            "55/55 [==============================] - 2s 32ms/step - loss: 1.6081e-04 - val_loss: 1.1822e-04\n",
            "Epoch 49/50\n",
            "55/55 [==============================] - 2s 32ms/step - loss: 1.5410e-04 - val_loss: 1.2601e-04\n",
            "Epoch 50/50\n",
            "55/55 [==============================] - 2s 31ms/step - loss: 1.5293e-04 - val_loss: 1.1784e-04\n"
          ]
        },
        {
          "output_type": "execute_result",
          "data": {
            "text/plain": [
              "<keras.callbacks.History at 0x7f5b08fa6dd0>"
            ]
          },
          "metadata": {},
          "execution_count": 224
        }
      ]
    },
    {
      "cell_type": "code",
      "execution_count": 225,
      "metadata": {
        "colab": {
          "base_uri": "https://localhost:8080/"
        },
        "id": "4tO9O1BpivbJ",
        "outputId": "1b9e5a65-af2d-4461-e806-3f66fb64e207"
      },
      "outputs": [
        {
          "output_type": "stream",
          "name": "stdout",
          "text": [
            "Train MSE:-\n",
            "12.144204397883197\n",
            "Test MSE:-\n",
            "7.753427745209557\n"
          ]
        }
      ],
      "source": [
        "train_predict_tata=model_lstm.predict(X_train_tata)\n",
        "test_predict_tata=model_lstm.predict(X_test_tata)\n",
        "train_predict_tata=scaler.inverse_transform(train_predict_tata)\n",
        "test_predict_tata=scaler.inverse_transform(test_predict_tata)\n",
        "\n",
        "print(\"Train MSE:-\")\n",
        "print(math.sqrt(mean_squared_error(y_train_tata,train_predict_tata)))\n",
        "print(\"Test MSE:-\")\n",
        "print(math.sqrt(mean_squared_error(ytest_tata,test_predict_tata)))"
      ]
    },
    {
      "cell_type": "code",
      "source": [
        "model_lstm.fit(X_train_infosys,y_train_infosys,validation_data=(X_test_infosys,ytest_infosys),epochs=ep_lstm,batch_size=64,verbose=1)"
      ],
      "metadata": {
        "id": "RxfitAiPUwqQ",
        "colab": {
          "base_uri": "https://localhost:8080/"
        },
        "outputId": "58baf59a-35b7-499e-e47b-e9c9bbb0a1f6"
      },
      "execution_count": 226,
      "outputs": [
        {
          "output_type": "stream",
          "name": "stdout",
          "text": [
            "Epoch 1/50\n",
            "72/72 [==============================] - 2s 32ms/step - loss: 3.8183e-05 - val_loss: 9.6929e-05\n",
            "Epoch 2/50\n",
            "72/72 [==============================] - 2s 31ms/step - loss: 3.6548e-05 - val_loss: 1.0763e-04\n",
            "Epoch 3/50\n",
            "72/72 [==============================] - 2s 31ms/step - loss: 3.6304e-05 - val_loss: 1.0627e-04\n",
            "Epoch 4/50\n",
            "72/72 [==============================] - 2s 31ms/step - loss: 3.6951e-05 - val_loss: 1.0716e-04\n",
            "Epoch 5/50\n",
            "72/72 [==============================] - 2s 31ms/step - loss: 3.7120e-05 - val_loss: 1.1803e-04\n",
            "Epoch 6/50\n",
            "72/72 [==============================] - 2s 31ms/step - loss: 3.6375e-05 - val_loss: 1.1864e-04\n",
            "Epoch 7/50\n",
            "72/72 [==============================] - 2s 32ms/step - loss: 3.9759e-05 - val_loss: 1.2634e-04\n",
            "Epoch 8/50\n",
            "72/72 [==============================] - 2s 31ms/step - loss: 3.8453e-05 - val_loss: 1.2673e-04\n",
            "Epoch 9/50\n",
            "72/72 [==============================] - 2s 31ms/step - loss: 3.7087e-05 - val_loss: 1.5081e-04\n",
            "Epoch 10/50\n",
            "72/72 [==============================] - 2s 31ms/step - loss: 3.6396e-05 - val_loss: 1.2207e-04\n",
            "Epoch 11/50\n",
            "72/72 [==============================] - 2s 31ms/step - loss: 3.7966e-05 - val_loss: 1.3894e-04\n",
            "Epoch 12/50\n",
            "72/72 [==============================] - 2s 31ms/step - loss: 3.7001e-05 - val_loss: 1.1680e-04\n",
            "Epoch 13/50\n",
            "72/72 [==============================] - 2s 31ms/step - loss: 3.7410e-05 - val_loss: 1.1001e-04\n",
            "Epoch 14/50\n",
            "72/72 [==============================] - 2s 32ms/step - loss: 3.6693e-05 - val_loss: 1.2926e-04\n",
            "Epoch 15/50\n",
            "72/72 [==============================] - 2s 30ms/step - loss: 3.7385e-05 - val_loss: 1.0500e-04\n",
            "Epoch 16/50\n",
            "72/72 [==============================] - 2s 31ms/step - loss: 3.7279e-05 - val_loss: 1.4805e-04\n",
            "Epoch 17/50\n",
            "72/72 [==============================] - 2s 31ms/step - loss: 3.7373e-05 - val_loss: 1.9675e-04\n",
            "Epoch 18/50\n",
            "72/72 [==============================] - 2s 31ms/step - loss: 3.8566e-05 - val_loss: 1.1179e-04\n",
            "Epoch 19/50\n",
            "72/72 [==============================] - 2s 31ms/step - loss: 3.9199e-05 - val_loss: 1.2664e-04\n",
            "Epoch 20/50\n",
            "72/72 [==============================] - 2s 33ms/step - loss: 3.6802e-05 - val_loss: 1.4998e-04\n",
            "Epoch 21/50\n",
            "72/72 [==============================] - 2s 32ms/step - loss: 3.6905e-05 - val_loss: 1.8766e-04\n",
            "Epoch 22/50\n",
            "72/72 [==============================] - 2s 31ms/step - loss: 3.7532e-05 - val_loss: 1.4883e-04\n",
            "Epoch 23/50\n",
            "72/72 [==============================] - 2s 32ms/step - loss: 3.6864e-05 - val_loss: 1.6615e-04\n",
            "Epoch 24/50\n",
            "72/72 [==============================] - 2s 32ms/step - loss: 3.7538e-05 - val_loss: 1.1982e-04\n",
            "Epoch 25/50\n",
            "72/72 [==============================] - 2s 31ms/step - loss: 3.7192e-05 - val_loss: 1.4629e-04\n",
            "Epoch 26/50\n",
            "72/72 [==============================] - 2s 31ms/step - loss: 3.8621e-05 - val_loss: 1.6458e-04\n",
            "Epoch 27/50\n",
            "72/72 [==============================] - 2s 31ms/step - loss: 3.7695e-05 - val_loss: 1.9069e-04\n",
            "Epoch 28/50\n",
            "72/72 [==============================] - 2s 32ms/step - loss: 3.7318e-05 - val_loss: 1.1146e-04\n",
            "Epoch 29/50\n",
            "72/72 [==============================] - 2s 31ms/step - loss: 3.7212e-05 - val_loss: 1.1542e-04\n",
            "Epoch 30/50\n",
            "72/72 [==============================] - 2s 31ms/step - loss: 3.7321e-05 - val_loss: 1.5395e-04\n",
            "Epoch 31/50\n",
            "72/72 [==============================] - 2s 31ms/step - loss: 3.8268e-05 - val_loss: 1.7274e-04\n",
            "Epoch 32/50\n",
            "72/72 [==============================] - 2s 32ms/step - loss: 3.7125e-05 - val_loss: 1.3661e-04\n",
            "Epoch 33/50\n",
            "72/72 [==============================] - 2s 32ms/step - loss: 3.7059e-05 - val_loss: 1.4766e-04\n",
            "Epoch 34/50\n",
            "72/72 [==============================] - 2s 32ms/step - loss: 3.8297e-05 - val_loss: 1.5932e-04\n",
            "Epoch 35/50\n",
            "72/72 [==============================] - 2s 32ms/step - loss: 3.8450e-05 - val_loss: 1.1324e-04\n",
            "Epoch 36/50\n",
            "72/72 [==============================] - 2s 31ms/step - loss: 3.9007e-05 - val_loss: 1.9133e-04\n",
            "Epoch 37/50\n",
            "72/72 [==============================] - 2s 32ms/step - loss: 3.7016e-05 - val_loss: 1.6427e-04\n",
            "Epoch 38/50\n",
            "72/72 [==============================] - 2s 31ms/step - loss: 3.7408e-05 - val_loss: 2.2784e-04\n",
            "Epoch 39/50\n",
            "72/72 [==============================] - 2s 32ms/step - loss: 4.2124e-05 - val_loss: 2.7024e-04\n",
            "Epoch 40/50\n",
            "72/72 [==============================] - 2s 31ms/step - loss: 3.7811e-05 - val_loss: 1.6672e-04\n",
            "Epoch 41/50\n",
            "72/72 [==============================] - 2s 31ms/step - loss: 4.1648e-05 - val_loss: 2.3668e-04\n",
            "Epoch 42/50\n",
            "72/72 [==============================] - 2s 31ms/step - loss: 3.8445e-05 - val_loss: 1.1736e-04\n",
            "Epoch 43/50\n",
            "72/72 [==============================] - 2s 31ms/step - loss: 3.7276e-05 - val_loss: 1.4936e-04\n",
            "Epoch 44/50\n",
            "72/72 [==============================] - 2s 31ms/step - loss: 3.7180e-05 - val_loss: 1.5092e-04\n",
            "Epoch 45/50\n",
            "72/72 [==============================] - 2s 31ms/step - loss: 3.6869e-05 - val_loss: 3.7016e-04\n",
            "Epoch 46/50\n",
            "72/72 [==============================] - 2s 32ms/step - loss: 3.8984e-05 - val_loss: 2.5483e-04\n",
            "Epoch 47/50\n",
            "72/72 [==============================] - 2s 31ms/step - loss: 4.0076e-05 - val_loss: 1.3634e-04\n",
            "Epoch 48/50\n",
            "72/72 [==============================] - 2s 32ms/step - loss: 3.9902e-05 - val_loss: 1.4474e-04\n",
            "Epoch 49/50\n",
            "72/72 [==============================] - 2s 31ms/step - loss: 3.7664e-05 - val_loss: 1.7485e-04\n",
            "Epoch 50/50\n",
            "72/72 [==============================] - 2s 32ms/step - loss: 3.7266e-05 - val_loss: 2.3070e-04\n"
          ]
        },
        {
          "output_type": "execute_result",
          "data": {
            "text/plain": [
              "<keras.callbacks.History at 0x7f5b08f70f10>"
            ]
          },
          "metadata": {},
          "execution_count": 226
        }
      ]
    },
    {
      "cell_type": "code",
      "execution_count": 227,
      "metadata": {
        "colab": {
          "base_uri": "https://localhost:8080/"
        },
        "id": "6PvFfjHlivbJ",
        "outputId": "9c225903-1751-4940-9744-9b71527d3a40"
      },
      "outputs": [
        {
          "output_type": "stream",
          "name": "stdout",
          "text": [
            "Train MSE:-\n",
            "5.6278746910888495\n",
            "Test MSE:-\n",
            "13.106916166394004\n"
          ]
        }
      ],
      "source": [
        "train_predict_infosys=model_lstm.predict(X_train_infosys)\n",
        "test_predict_infosys=model_lstm.predict(X_test_infosys)\n",
        "train_predict_infosys=scaler.inverse_transform(train_predict_infosys)\n",
        "test_predict_infosys=scaler.inverse_transform(test_predict_infosys)\n",
        "\n",
        "print(\"Train MSE:-\")\n",
        "print(math.sqrt(mean_squared_error(y_train_infosys,train_predict_infosys)))\n",
        "print(\"Test MSE:-\")\n",
        "print(math.sqrt(mean_squared_error(ytest_infosys,test_predict_infosys)))"
      ]
    },
    {
      "cell_type": "code",
      "source": [
        "from tabulate import tabulate\n",
        "mydata = [\n",
        "    [\"Vanilla LSTM\", rmse_vanilla, mape_vanilla, accuracy_vanilla],\n",
        "    [\"Bi Directional LSTM\", rmse_bilstm, mape_bilstm, accuracy_bilstm],\n",
        "    [\"Stacked LSTM\", rmse_lstm, mape_lstm, accuracy_lstm]\n",
        "]\n",
        " \n",
        "head = [\"MODEL TYPE\", \"RMSE\", \"MAPE\", \"ACCURACY\"]\n",
        "\n",
        "print(tabulate(mydata, headers=head, tablefmt=\"grid\"))"
      ],
      "metadata": {
        "colab": {
          "base_uri": "https://localhost:8080/"
        },
        "id": "tG8X8D6Kq7Sn",
        "outputId": "b8070069-cf65-4478-d09c-9e1062f2562a"
      },
      "execution_count": 248,
      "outputs": [
        {
          "output_type": "stream",
          "name": "stdout",
          "text": [
            "+---------------------+---------+---------+------------+\n",
            "| MODEL TYPE          |    RMSE |    MAPE |   ACCURACY |\n",
            "+=====================+=========+=========+============+\n",
            "| Vanilla LSTM        | 5.8858  | 24.9881 |    75.0119 |\n",
            "+---------------------+---------+---------+------------+\n",
            "| Bi Directional LSTM | 5.96001 | 22.9762 |    77.0238 |\n",
            "+---------------------+---------+---------+------------+\n",
            "| Stacked LSTM        | 5.9492  | 25.1737 |    74.8263 |\n",
            "+---------------------+---------+---------+------------+\n"
          ]
        }
      ]
    },
    {
      "cell_type": "markdown",
      "source": [
        "# **OUTPUT VISUALISATION**"
      ],
      "metadata": {
        "id": "8sKzGa_bofIK"
      }
    },
    {
      "cell_type": "code",
      "execution_count": 228,
      "metadata": {
        "colab": {
          "base_uri": "https://localhost:8080/",
          "height": 844
        },
        "id": "Y3JOxTE5ivbK",
        "outputId": "2f24e0f0-baf2-436b-baa0-c12a2c783fbc"
      },
      "outputs": [
        {
          "output_type": "execute_result",
          "data": {
            "text/plain": [
              "[<matplotlib.lines.Line2D at 0x7f5b0903a2d0>]"
            ]
          },
          "metadata": {},
          "execution_count": 228
        },
        {
          "output_type": "display_data",
          "data": {
            "text/plain": [
              "<Figure size 1440x1008 with 4 Axes>"
            ],
            "image/png": "[encoded data removed]"
          },
          "metadata": {
            "needs_background": "light"
          }
        }
      ],
      "source": [
        "# look_back=14\n",
        "f, axs = plt.subplots(2,2,figsize=(20,14))\n",
        "\n",
        "trainPlot_sensex = np.empty_like(df1)\n",
        "trainPlot_sensex[:,:]=np.nan\n",
        "trainPlot_sensex[look_back:len(train_predict_sensex)+look_back,:]=train_predict_sensex\n",
        "testPlot_sensex=np.empty_like(df1)\n",
        "testPlot_sensex[:,:]=np.nan\n",
        "testPlot_sensex[len(train_predict_sensex)+(look_back*2)+1:len(df1)-1,:]=test_predict_sensex\n",
        "axs[0,0].set_title('Sensex')\n",
        "axs[0,0].plot(scaler.inverse_transform(df1),color='blue')\n",
        "axs[0,0].plot(trainPlot_sensex,color='orange')\n",
        "axs[0,0].plot(testPlot_sensex,color='lightgreen')\n",
        "\n",
        "trainPlot_nifty = np.empty_like(df2)\n",
        "trainPlot_nifty[:,:]=np.nan\n",
        "trainPlot_nifty[look_back:len(train_predict_nifty)+look_back,:]=train_predict_nifty\n",
        "testPlot_nifty=np.empty_like(df2)\n",
        "testPlot_nifty[:,:]=np.nan\n",
        "testPlot_nifty[len(train_predict_nifty)+(look_back*2)+1:len(df2)-1,:]=test_predict_nifty\n",
        "axs[0,1].set_title('Nifty')\n",
        "axs[0,1].plot(scaler.inverse_transform(df2),color='blue')\n",
        "axs[0,1].plot(trainPlot_nifty,color='orange')\n",
        "axs[0,1].plot(testPlot_nifty,color='lightgreen')\n",
        "\n",
        "trainPlot_tata = np.empty_like(df3)\n",
        "trainPlot_tata[:,:]=np.nan\n",
        "trainPlot_tata[look_back:len(train_predict_tata)+look_back,:]=train_predict_tata\n",
        "testPlot_tata=np.empty_like(df3)\n",
        "testPlot_tata[:,:]=np.nan\n",
        "testPlot_tata[len(train_predict_tata)+(look_back*2)+1:len(df3)-1,:]=test_predict_tata\n",
        "axs[1,0].set_title('Tata Motors')\n",
        "axs[1,0].plot(scaler.inverse_transform(df3),color='blue')\n",
        "axs[1,0].plot(trainPlot_tata,color='orange')\n",
        "axs[1,0].plot(testPlot_tata,color='lightgreen')\n",
        "\n",
        "trainPlot_infosys = np.empty_like(df4)\n",
        "trainPlot_infosys[:,:]=np.nan\n",
        "trainPlot_infosys[look_back:len(train_predict_infosys)+look_back,:]=train_predict_infosys\n",
        "testPlot_infosys=np.empty_like(df4)\n",
        "testPlot_infosys[:,:]=np.nan\n",
        "testPlot_infosys[len(train_predict_infosys)+(look_back*2)+1:len(df4)-1,:]=test_predict_infosys\n",
        "axs[1,1].set_title('Infosys')\n",
        "axs[1,1].plot(scaler.inverse_transform(df4),color='blue')\n",
        "axs[1,1].plot(trainPlot_infosys,color='orange')\n",
        "axs[1,1].plot(testPlot_infosys,color='lightgreen')"
      ]
    },
    {
      "cell_type": "code",
      "execution_count": 229,
      "metadata": {
        "id": "-sR9HGr9ivbK"
      },
      "outputs": [],
      "source": [
        "#look_back=100\n",
        "#trainPlot_nifty = np.empty_like(df2)\n",
        "#trainPlot_nifty[:,:]=np.nan\n",
        "#trainPlot_nifty[look_back:len(train_predict_nifty)+look_back,:]=train_predict_nifty\n",
        "#testPlot_nifty=np.empty_like(df2)\n",
        "#testPlot_nifty[:,:]=np.nan\n",
        "#testPlot_nifty[len(train_predict_nifty)+(look_back*2)+1:len(df2)-1,:]=test_predict_nifty\n",
        "#plt.plot(scaler.inverse_transform(df2),color='blue')\n",
        "#plt.plot(trainPlot_nifty,color='orange')\n",
        "#plt.plot(testPlot_nifty,color='lightgreen')\n",
        "#plt.show()"
      ]
    },
    {
      "cell_type": "code",
      "execution_count": 230,
      "metadata": {
        "colab": {
          "base_uri": "https://localhost:8080/"
        },
        "id": "OgL2YCgNivbL",
        "outputId": "81301019-29be-4cb1-c4fb-fb9056918972"
      },
      "outputs": [
        {
          "output_type": "stream",
          "name": "stdout",
          "text": [
            "(1, 10)\n",
            "[0.8797566]\n",
            "11\n",
            "1 day input [0.93571945 0.92995241 0.93311958 0.94423063 0.95200649 0.93893959\n",
            " 0.92909667 0.91925376 0.90941084 0.87975663]\n",
            "1 day output [[0.8511765]]\n",
            "2 day input [0.92995241 0.93311958 0.94423063 0.95200649 0.93893959 0.92909667\n",
            " 0.91925376 0.90941084 0.87975663 0.8511765 ]\n",
            "2 day output [[0.8276482]]\n",
            "3 day input [0.93311958 0.94423063 0.95200649 0.93893959 0.92909667 0.91925376\n",
            " 0.90941084 0.87975663 0.8511765  0.82764822]\n",
            "3 day output [[0.806893]]\n",
            "4 day input [0.94423063 0.95200649 0.93893959 0.92909667 0.91925376 0.90941084\n",
            " 0.87975663 0.8511765  0.82764822 0.80689299]\n",
            "4 day output [[0.7881376]]\n",
            "5 day input [0.95200649 0.93893959 0.92909667 0.91925376 0.90941084 0.87975663\n",
            " 0.8511765  0.82764822 0.80689299 0.78813761]\n",
            "5 day output [[0.77092654]]\n",
            "6 day input [0.93893959 0.92909667 0.91925376 0.90941084 0.87975663 0.8511765\n",
            " 0.82764822 0.80689299 0.78813761 0.77092654]\n",
            "6 day output [[0.7549445]]\n",
            "[[0.8797566294670105], [0.8511765003204346], [0.8276482224464417], [0.806892991065979], [0.7881376147270203], [0.7709265351295471], [0.7549445033073425]]\n"
          ]
        }
      ],
      "source": [
        "# needs change\n",
        "# days=7\n",
        "x=len(test_data_sensex)\n",
        "\n",
        "x_input=test_data_sensex[x-look_back:].reshape(1,-1)\n",
        "print(x_input.shape)\n",
        "\n",
        "temp_input=list(x_input)\n",
        "temp_input=temp_input[0].tolist()\n",
        "temp_input\n",
        "\n",
        "# from numpy import array\n",
        "\n",
        "lst_output=[]\n",
        "n_steps=look_back\n",
        "i=0\n",
        "while(i<days):\n",
        "    \n",
        "    if(len(temp_input)>n_steps):\n",
        "        #print(temp_input)\n",
        "        x_input=np.array(temp_input[1:])\n",
        "        print(\"{} day input {}\".format(i,x_input))\n",
        "        x_input=x_input.reshape(1,-1)\n",
        "        x_input = x_input.reshape((1, n_steps, 1))\n",
        "        #print(x_input)\n",
        "        yhat = model_lstm.predict(x_input, verbose=0)\n",
        "        print(\"{} day output {}\".format(i,yhat))\n",
        "        temp_input.extend(yhat[0].tolist())\n",
        "        temp_input=temp_input[1:]\n",
        "        #print(temp_input)\n",
        "        lst_output.extend(yhat.tolist())\n",
        "        i=i+1\n",
        "    else:\n",
        "        x_input = x_input.reshape((1, n_steps,1))\n",
        "        yhat = model_lstm.predict(x_input, verbose=0)\n",
        "        print(yhat[0])\n",
        "        temp_input.extend(yhat[0].tolist())\n",
        "        print(len(temp_input))\n",
        "        lst_output.extend(yhat.tolist())\n",
        "        i=i+1\n",
        "\n",
        "\n",
        "print(lst_output)"
      ]
    },
    {
      "cell_type": "code",
      "execution_count": 231,
      "metadata": {
        "colab": {
          "base_uri": "https://localhost:8080/",
          "height": 611
        },
        "id": "_R1rPnp1ivbL",
        "outputId": "0ad760b1-39a6-47aa-ccc9-e37199dcc573"
      },
      "outputs": [
        {
          "output_type": "execute_result",
          "data": {
            "text/plain": [
              "[<matplotlib.lines.Line2D at 0x7f5b009cf350>]"
            ]
          },
          "metadata": {},
          "execution_count": 231
        },
        {
          "output_type": "display_data",
          "data": {
            "text/plain": [
              "<Figure size 720x720 with 2 Axes>"
            ],
            "image/png": "[encoded data removed]"
          },
          "metadata": {
            "needs_background": "light"
          }
        }
      ],
      "source": [
        "# needs change\n",
        "day_new=np.arange(1,look_back+1)\n",
        "day_pred=np.arange(look_back+1,look_back+days+1)\n",
        "y=len(df1)\n",
        "\n",
        "f, axs = plt.subplots(2,figsize=(10,10))\n",
        "\n",
        "df_new=df1.tolist()\n",
        "df_new.extend(lst_output)\n",
        "axs[1].plot(df_new[y-look_back:])\n",
        "# plt.plot(df_new[y-look_back:])\n",
        "\n",
        "axs[0].plot(day_new,scaler.inverse_transform(df1[y-look_back:]))\n",
        "axs[0].plot(day_pred,scaler.inverse_transform(lst_output))"
      ]
    },
    {
      "cell_type": "code",
      "execution_count": 232,
      "metadata": {
        "colab": {
          "base_uri": "https://localhost:8080/"
        },
        "id": "W1VNOkxlivbM",
        "outputId": "fc9b9d2a-69c8-4eac-b242-59bdea0a857c"
      },
      "outputs": [
        {
          "output_type": "stream",
          "name": "stdout",
          "text": [
            "(1, 10)\n",
            "[0.86680615]\n",
            "11\n",
            "1 day input [0.95630557 0.94252742 0.93977565 0.92080092 0.92413263 0.93648471\n",
            " 0.945389   0.93090258 0.8975575  0.86680615]\n",
            "1 day output [[0.8414231]]\n",
            "2 day input [0.94252742 0.93977565 0.92080092 0.92413263 0.93648471 0.945389\n",
            " 0.93090258 0.8975575  0.86680615 0.84142309]\n",
            "2 day output [[0.81922245]]\n",
            "3 day input [0.93977565 0.92080092 0.92413263 0.93648471 0.945389   0.93090258\n",
            " 0.8975575  0.86680615 0.84142309 0.81922245]\n",
            "3 day output [[0.79930216]]\n",
            "4 day input [0.92080092 0.92413263 0.93648471 0.945389   0.93090258 0.8975575\n",
            " 0.86680615 0.84142309 0.81922245 0.79930216]\n",
            "4 day output [[0.7811868]]\n",
            "5 day input [0.92413263 0.93648471 0.945389   0.93090258 0.8975575  0.86680615\n",
            " 0.84142309 0.81922245 0.79930216 0.78118682]\n",
            "5 day output [[0.7645585]]\n",
            "6 day input [0.93648471 0.945389   0.93090258 0.8975575  0.86680615 0.84142309\n",
            " 0.81922245 0.79930216 0.78118682 0.76455849]\n",
            "6 day output [[0.7491226]]\n",
            "[[0.866806149482727], [0.8414230942726135], [0.8192224502563477], [0.7993021607398987], [0.7811868190765381], [0.7645584940910339], [0.7491226196289062]]\n"
          ]
        }
      ],
      "source": [
        "# needs change\n",
        "x=len(test_data_nifty)\n",
        "\n",
        "x_input=test_data_nifty[x-look_back:].reshape(1,-1)\n",
        "print(x_input.shape)\n",
        "\n",
        "temp_input=list(x_input)\n",
        "temp_input=temp_input[0].tolist()\n",
        "temp_input\n",
        "\n",
        "# from numpy import array\n",
        "\n",
        "lst_output=[]\n",
        "n_steps=look_back\n",
        "i=0\n",
        "while(i<days):\n",
        "    \n",
        "    if(len(temp_input)>n_steps):\n",
        "        #print(temp_input)\n",
        "        x_input=np.array(temp_input[1:])\n",
        "        print(\"{} day input {}\".format(i,x_input))\n",
        "        x_input=x_input.reshape(1,-1)\n",
        "        x_input = x_input.reshape((1, n_steps, 1))\n",
        "        #print(x_input)\n",
        "        yhat = model_lstm.predict(x_input, verbose=0)\n",
        "        print(\"{} day output {}\".format(i,yhat))\n",
        "        temp_input.extend(yhat[0].tolist())\n",
        "        temp_input=temp_input[1:]\n",
        "        #print(temp_input)\n",
        "        lst_output.extend(yhat.tolist())\n",
        "        i=i+1\n",
        "    else:\n",
        "        x_input = x_input.reshape((1, n_steps,1))\n",
        "        yhat = model_lstm.predict(x_input, verbose=0)\n",
        "        print(yhat[0])\n",
        "        temp_input.extend(yhat[0].tolist())\n",
        "        print(len(temp_input))\n",
        "        lst_output.extend(yhat.tolist())\n",
        "        i=i+1\n",
        "\n",
        "\n",
        "print(lst_output)"
      ]
    },
    {
      "cell_type": "code",
      "source": [
        "# needs change\n",
        "day_new=np.arange(1,look_back+1)\n",
        "day_pred=np.arange(look_back+1,look_back+days+1)\n",
        "y=len(df2)\n",
        "\n",
        "f, axs = plt.subplots(2,figsize=(10,10))\n",
        "\n",
        "df_new=df2.tolist()\n",
        "df_new.extend(lst_output)\n",
        "axs[1].plot(df_new[y-look_back:])\n",
        "# plt.plot(df_new[y-look_back:])\n",
        "\n",
        "axs[0].plot(day_new,scaler.inverse_transform(df2[y-look_back:]))\n",
        "axs[0].plot(day_pred,scaler.inverse_transform(lst_output))"
      ],
      "metadata": {
        "colab": {
          "base_uri": "https://localhost:8080/",
          "height": 611
        },
        "id": "MqHvULDbcc4U",
        "outputId": "2eb65ce4-0e71-4d0b-c58e-bdd546188ad4"
      },
      "execution_count": 233,
      "outputs": [
        {
          "output_type": "execute_result",
          "data": {
            "text/plain": [
              "[<matplotlib.lines.Line2D at 0x7f5b0075df50>]"
            ]
          },
          "metadata": {},
          "execution_count": 233
        },
        {
          "output_type": "display_data",
          "data": {
            "text/plain": [
              "<Figure size 720x720 with 2 Axes>"
            ],
            "image/png": "[encoded data removed]"
          },
          "metadata": {
            "needs_background": "light"
          }
        }
      ]
    },
    {
      "cell_type": "code",
      "source": [
        "# needs change\n",
        "# days=7\n",
        "x=len(test_data_tata)\n",
        "\n",
        "x_input=test_data_tata[x-look_back:].reshape(1,-1)\n",
        "print(x_input.shape)\n",
        "\n",
        "temp_input=list(x_input)\n",
        "temp_input=temp_input[0].tolist()\n",
        "temp_input\n",
        "\n",
        "# from numpy import array\n",
        "\n",
        "lst_output=[]\n",
        "n_steps=look_back\n",
        "i=0\n",
        "while(i<days):\n",
        "    \n",
        "    if(len(temp_input)>n_steps):\n",
        "        #print(temp_input)\n",
        "        x_input=np.array(temp_input[1:])\n",
        "        print(\"{} day input {}\".format(i,x_input))\n",
        "        x_input=x_input.reshape(1,-1)\n",
        "        x_input = x_input.reshape((1, n_steps, 1))\n",
        "        #print(x_input)\n",
        "        yhat = model_lstm.predict(x_input, verbose=0)\n",
        "        print(\"{} day output {}\".format(i,yhat))\n",
        "        temp_input.extend(yhat[0].tolist())\n",
        "        temp_input=temp_input[1:]\n",
        "        #print(temp_input)\n",
        "        lst_output.extend(yhat.tolist())\n",
        "        i=i+1\n",
        "    else:\n",
        "        x_input = x_input.reshape((1, n_steps,1))\n",
        "        yhat = model_lstm.predict(x_input, verbose=0)\n",
        "        print(yhat[0])\n",
        "        temp_input.extend(yhat[0].tolist())\n",
        "        print(len(temp_input))\n",
        "        lst_output.extend(yhat.tolist())\n",
        "        i=i+1\n",
        "\n",
        "\n",
        "print(lst_output)"
      ],
      "metadata": {
        "colab": {
          "base_uri": "https://localhost:8080/"
        },
        "id": "UQKODDqScj24",
        "outputId": "502271b8-3e94-49c1-c6c0-e8f52e866544"
      },
      "execution_count": 234,
      "outputs": [
        {
          "output_type": "stream",
          "name": "stdout",
          "text": [
            "(1, 10)\n",
            "[0.5621576]\n",
            "11\n",
            "1 day input [0.63149181 0.62011173 0.61990477 0.61369746 0.61762882 0.63914749\n",
            " 0.6252845  0.60128285 0.5704531  0.56215757]\n",
            "1 day output [[0.557987]]\n",
            "2 day input [0.62011173 0.61990477 0.61369746 0.61762882 0.63914749 0.6252845\n",
            " 0.60128285 0.5704531  0.56215757 0.55798697]\n",
            "2 day output [[0.55294985]]\n",
            "3 day input [0.61990477 0.61369746 0.61762882 0.63914749 0.6252845  0.60128285\n",
            " 0.5704531  0.56215757 0.55798697 0.55294985]\n",
            "3 day output [[0.5479374]]\n",
            "4 day input [0.61369746 0.61762882 0.63914749 0.6252845  0.60128285 0.5704531\n",
            " 0.56215757 0.55798697 0.55294985 0.54793739]\n",
            "4 day output [[0.543001]]\n",
            "5 day input [0.61762882 0.63914749 0.6252845  0.60128285 0.5704531  0.56215757\n",
            " 0.55798697 0.55294985 0.54793739 0.543001  ]\n",
            "5 day output [[0.53814137]]\n",
            "6 day input [0.63914749 0.6252845  0.60128285 0.5704531  0.56215757 0.55798697\n",
            " 0.55294985 0.54793739 0.543001   0.53814137]\n",
            "6 day output [[0.5333266]]\n",
            "[[0.5621575713157654], [0.5579869747161865], [0.552949845790863], [0.5479373931884766], [0.5430009961128235], [0.5381413698196411], [0.5333266258239746]]\n"
          ]
        }
      ]
    },
    {
      "cell_type": "code",
      "source": [
        "# needs change\n",
        "day_new=np.arange(1,look_back+1)\n",
        "day_pred=np.arange(look_back+1,look_back+days+1)\n",
        "y=len(df3)\n",
        "\n",
        "f, axs = plt.subplots(2,figsize=(10,10))\n",
        "\n",
        "df_new=df3.tolist()\n",
        "df_new.extend(lst_output)\n",
        "axs[1].plot(df_new[y-look_back:])\n",
        "# plt.plot(df_new[y-look_back:])\n",
        "\n",
        "axs[0].plot(day_new,scaler.inverse_transform(df3[y-look_back:]))\n",
        "axs[0].plot(day_pred,scaler.inverse_transform(lst_output))"
      ],
      "metadata": {
        "colab": {
          "base_uri": "https://localhost:8080/",
          "height": 611
        },
        "id": "xFyIaEqsdgIE",
        "outputId": "c581c056-ecce-4e9d-93d5-6508d9cd2135"
      },
      "execution_count": 235,
      "outputs": [
        {
          "output_type": "execute_result",
          "data": {
            "text/plain": [
              "[<matplotlib.lines.Line2D at 0x7f5b00976ad0>]"
            ]
          },
          "metadata": {},
          "execution_count": 235
        },
        {
          "output_type": "display_data",
          "data": {
            "text/plain": [
              "<Figure size 720x720 with 2 Axes>"
            ],
            "image/png": "[encoded data removed]"
          },
          "metadata": {
            "needs_background": "light"
          }
        }
      ]
    },
    {
      "cell_type": "code",
      "source": [
        "# needs change\n",
        "# days=7\n",
        "x=len(test_data_infosys)\n",
        "\n",
        "x_input=test_data_infosys[x-look_back:].reshape(1,-1)\n",
        "print(x_input.shape)\n",
        "\n",
        "temp_input=list(x_input)\n",
        "temp_input=temp_input[0].tolist()\n",
        "temp_input\n",
        "\n",
        "# from numpy import array\n",
        "\n",
        "lst_output=[]\n",
        "n_steps=look_back\n",
        "i=0\n",
        "while(i<days):\n",
        "    \n",
        "    if(len(temp_input)>n_steps):\n",
        "        #print(temp_input)\n",
        "        x_input=np.array(temp_input[1:])\n",
        "        print(\"{} day input {}\".format(i,x_input))\n",
        "        x_input=x_input.reshape(1,-1)\n",
        "        x_input = x_input.reshape((1, n_steps, 1))\n",
        "        #print(x_input)\n",
        "        yhat = model_lstm.predict(x_input, verbose=0)\n",
        "        print(\"{} day output {}\".format(i,yhat))\n",
        "        temp_input.extend(yhat[0].tolist())\n",
        "        temp_input=temp_input[1:]\n",
        "        #print(temp_input)\n",
        "        lst_output.extend(yhat.tolist())\n",
        "        i=i+1\n",
        "    else:\n",
        "        x_input = x_input.reshape((1, n_steps,1))\n",
        "        yhat = model_lstm.predict(x_input, verbose=0)\n",
        "        print(yhat[0])\n",
        "        temp_input.extend(yhat[0].tolist())\n",
        "        print(len(temp_input))\n",
        "        lst_output.extend(yhat.tolist())\n",
        "        i=i+1\n",
        "\n",
        "\n",
        "print(lst_output)"
      ],
      "metadata": {
        "colab": {
          "base_uri": "https://localhost:8080/"
        },
        "id": "lkjBMWy7dnRf",
        "outputId": "f96f6ccd-6931-4374-f1ea-6f01254c0c90"
      },
      "execution_count": 236,
      "outputs": [
        {
          "output_type": "stream",
          "name": "stdout",
          "text": [
            "(1, 10)\n",
            "[0.81162894]\n",
            "11\n",
            "1 day input [0.90498533 0.86549363 0.87057669 0.8541544  0.87057669 0.89090906\n",
            " 0.87253176 0.8463343  0.83343108 0.81162894]\n",
            "1 day output [[0.7900072]]\n",
            "2 day input [0.86549363 0.87057669 0.8541544  0.87057669 0.89090906 0.87253176\n",
            " 0.8463343  0.83343108 0.81162894 0.79000717]\n",
            "2 day output [[0.77134997]]\n",
            "3 day input [0.87057669 0.8541544  0.87057669 0.89090906 0.87253176 0.8463343\n",
            " 0.83343108 0.81162894 0.79000717 0.77134997]\n",
            "3 day output [[0.7545713]]\n",
            "4 day input [0.8541544  0.87057669 0.89090906 0.87253176 0.8463343  0.83343108\n",
            " 0.81162894 0.79000717 0.77134997 0.75457132]\n",
            "4 day output [[0.73922706]]\n",
            "5 day input [0.87057669 0.89090906 0.87253176 0.8463343  0.83343108 0.81162894\n",
            " 0.79000717 0.77134997 0.75457132 0.73922706]\n",
            "5 day output [[0.7250569]]\n",
            "6 day input [0.89090906 0.87253176 0.8463343  0.83343108 0.81162894 0.79000717\n",
            " 0.77134997 0.75457132 0.73922706 0.72505689]\n",
            "6 day output [[0.7117921]]\n",
            "[[0.8116289377212524], [0.7900071740150452], [0.7713499665260315], [0.7545713186264038], [0.7392270565032959], [0.7250568866729736], [0.7117921113967896]]\n"
          ]
        }
      ]
    },
    {
      "cell_type": "code",
      "source": [
        "# needs change\n",
        "day_new=np.arange(1,look_back+1)\n",
        "day_pred=np.arange(look_back+1,look_back+days+1)\n",
        "y=len(df4)\n",
        "\n",
        "f, axs = plt.subplots(2,figsize=(10,10))\n",
        "\n",
        "df_new=df4.tolist()\n",
        "df_new.extend(lst_output)\n",
        "axs[1].plot(df_new[y-look_back:])\n",
        "# plt.plot(df_new[y-look_back:])\n",
        "\n",
        "axs[0].plot(day_new,scaler.inverse_transform(df4[y-look_back:]))\n",
        "axs[0].plot(day_pred,scaler.inverse_transform(lst_output))"
      ],
      "metadata": {
        "colab": {
          "base_uri": "https://localhost:8080/",
          "height": 613
        },
        "id": "AAaJrwotdxc9",
        "outputId": "7a1ea553-3673-400d-d768-cde1ad26efb3"
      },
      "execution_count": 237,
      "outputs": [
        {
          "output_type": "execute_result",
          "data": {
            "text/plain": [
              "[<matplotlib.lines.Line2D at 0x7f5b009be7d0>]"
            ]
          },
          "metadata": {},
          "execution_count": 237
        },
        {
          "output_type": "display_data",
          "data": {
            "text/plain": [
              "<Figure size 720x720 with 2 Axes>"
            ],
            "image/png": "[encoded data removed]"
          },
          "metadata": {
            "needs_background": "light"
          }
        }
      ]
    },
    {
      "cell_type": "code",
      "source": [
        ""
      ],
      "metadata": {
        "id": "vNEDqKHkd2pN"
      },
      "execution_count": 237,
      "outputs": []
    }
  ],
  "metadata": {
    "kernelspec": {
      "display_name": "Python 3 (ipykernel)",
      "language": "python",
      "name": "python3"
    },
    "language_info": {
      "codemirror_mode": {
        "name": "ipython",
        "version": 3
      },
      "file_extension": ".py",
      "mimetype": "text/x-python",
      "name": "python",
      "nbconvert_exporter": "python",
      "pygments_lexer": "ipython3",
      "version": "3.8.10"
    },
    "colab": {
      "name": "major_project_done_lstm.ipynb",
      "provenance": [],
      "collapsed_sections": []
    }
  },
  "nbformat": 4,
  "nbformat_minor": 0
}